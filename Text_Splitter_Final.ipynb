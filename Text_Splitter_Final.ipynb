{
 "cells": [
  {
   "cell_type": "code",
   "execution_count": 1,
   "metadata": {},
   "outputs": [
    {
     "name": "stdout",
     "output_type": "stream",
     "text": [
      "newAudioDict 554\n",
      "audiodict 681\n",
      "newTextDict 554\n",
      "textdict 954\n",
      "noAudioRelations 400\n",
      "noTextRelations 127\n"
     ]
    }
   ],
   "source": [
    "#In dit nodebook worden de textfiles en audio files ingelezen.\n",
    "\n",
    "#hierbij wordt er gekeken of de verschillende audio en textfiles met de zelfde naam voorkomen. \n",
    "#wordt dit niet gedaan dan worden ze verwijderd.\n",
    "\n",
    "import os, glob\n",
    "\n",
    "folderFinal = '/datb/aphasia/languagedata/uva/transform/clean/'\n",
    "folderOrig = \"/datb/aphasia/languagedata/uva/original/\"\n",
    "norelationaudiotext =\"/datb/aphasia/languagedata/uva/transform/norelationaudiotext/\"\n",
    "\n",
    "audiodict = {}\n",
    "textdict = {}\n",
    "noAudioRelations = {}\n",
    "noTextRelations = {}\n",
    "\n",
    "def initAllFiles(folder):\n",
    "    audiotmp = glob.glob(folder+'*.aifc')\n",
    "    texttmp = glob.glob(folder+'*.txt')\n",
    "    \n",
    "    for file in audiotmp:\n",
    "        audio = file.split('/')[-1]\n",
    "        audiodict[audio] = file\n",
    "        \n",
    "    for file in texttmp:\n",
    "        text = file.split('/')[-1]\n",
    "        textdict[text] = file\n",
    "\n",
    "initAllFiles(folderOrig)\n",
    "\n",
    "def removekeyDict(d, key):\n",
    "    r = dict(d)\n",
    "    del r[key]\n",
    "    return r\n",
    "\n",
    "        \n",
    "newTextDict = {}\n",
    "newAudioDict = {}\n",
    "\n",
    "for text in textdict:\n",
    "    texttmp = text.split('.')[0]+'.aifc'\n",
    "    if texttmp not in audiodict:\n",
    "        noAudioRelations[text] = textdict[text]\n",
    "    else:\n",
    "        newTextDict[text] = textdict[text]\n",
    "\n",
    "for audio in audiodict:\n",
    "    audiotmp = audio.split('.')[0]+'.txt'\n",
    "    if audiotmp not in newTextDict:\n",
    "        noTextRelations[audio] =audiodict[audio]\n",
    "    else:\n",
    "        newAudioDict[audio] = audiodict[audio]\n",
    "        \n",
    "print(\"newAudioDict \" + str(len(newAudioDict)))\n",
    "print(\"audiodict \" + str(len(audiodict)))\n",
    "print(\"newTextDict \" + str(len(newTextDict)))\n",
    "print(\"textdict \" + str(len(textdict)))\n",
    "print(\"noAudioRelations \" + str(len(noAudioRelations)))\n",
    "print(\"noTextRelations \" + str(len(noTextRelations)))\n",
    "\n",
    "\n"
   ]
  },
  {
   "cell_type": "code",
   "execution_count": 2,
   "metadata": {},
   "outputs": [
    {
     "ename": "KeyError",
     "evalue": "'M58D1FT8.txt'",
     "output_type": "error",
     "traceback": [
      "\u001b[0;31m---------------------------------------------------------------------------\u001b[0m",
      "\u001b[0;31mKeyError\u001b[0m                                  Traceback (most recent call last)",
      "\u001b[0;32m<ipython-input-2-eb7410825524>\u001b[0m in \u001b[0;36m<module>\u001b[0;34m()\u001b[0m\n\u001b[1;32m     21\u001b[0m \u001b[0;34m\u001b[0m\u001b[0m\n\u001b[1;32m     22\u001b[0m \u001b[0;32mfor\u001b[0m \u001b[0mtxt\u001b[0m \u001b[0;32min\u001b[0m \u001b[0mnoAudioRelations\u001b[0m\u001b[0;34m:\u001b[0m\u001b[0;34m\u001b[0m\u001b[0m\n\u001b[0;32m---> 23\u001b[0;31m     \u001b[0mshutil\u001b[0m\u001b[0;34m.\u001b[0m\u001b[0mcopy2\u001b[0m\u001b[0;34m(\u001b[0m\u001b[0mnoAudioRelations\u001b[0m\u001b[0;34m[\u001b[0m\u001b[0mtext\u001b[0m\u001b[0;34m]\u001b[0m\u001b[0;34m,\u001b[0m \u001b[0mnorelationaudiotext\u001b[0m\u001b[0;34m+\u001b[0m\u001b[0mtxt\u001b[0m\u001b[0;34m)\u001b[0m\u001b[0;34m\u001b[0m\u001b[0m\n\u001b[0m\u001b[1;32m     24\u001b[0m \u001b[0;34m\u001b[0m\u001b[0m\n\u001b[1;32m     25\u001b[0m \u001b[0;34m\u001b[0m\u001b[0m\n",
      "\u001b[0;31mKeyError\u001b[0m: 'M58D1FT8.txt'"
     ]
    }
   ],
   "source": [
    "import shutil\n",
    "import codecs\n",
    "\n",
    "for txtPath in newTextDict:\n",
    "    texttmp = newTextDict[txtPath]\n",
    "    txtName = newTextDict[txtPath].split('/')[-1]\n",
    "    with codecs.open(texttmp,encoding ='latin1') as fromtextfile:\n",
    "        audiofile = texttmp.split('/')[-1].split('.')[0]+'.aifc'\n",
    "        shutil.copy2(audiodict[audiofile], folderFinal+str(audiofile))\n",
    "        with open(folderFinal + txtName, 'w') as totextfile:\n",
    "            data = fromtextfile.read()\n",
    "            \n",
    "\n",
    "            #Split zinnen wanneer . voorkomt\n",
    "            splited_data = data.split(\".\") \n",
    "            clean_splited_data = []\n",
    "            #voor elk gesplite zinnen en eindig de regel met /n\n",
    "            for sen in splited_data:\n",
    "                clean_data = sen.replace(',',\"\")\n",
    "                totextfile.write(clean_data + \"\\r\\n\")\n",
    "\n",
    "for txt in noAudioRelations:\n",
    "    shutil.copy2(noAudioRelations[text], norelationaudiotext+txt)\n",
    "                 \n",
    "\n",
    "                     \n"
   ]
  },
  {
   "cell_type": "code",
   "execution_count": null,
   "metadata": {},
   "outputs": [],
   "source": []
  }
 ],
 "metadata": {
  "kernelspec": {
   "display_name": "Python 3",
   "language": "python",
   "name": "python3"
  },
  "language_info": {
   "codemirror_mode": {
    "name": "ipython",
    "version": 3
   },
   "file_extension": ".py",
   "mimetype": "text/x-python",
   "name": "python",
   "nbconvert_exporter": "python",
   "pygments_lexer": "ipython3",
   "version": "3.6.6"
  }
 },
 "nbformat": 4,
 "nbformat_minor": 2
}
