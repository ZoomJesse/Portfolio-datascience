{
 "cells": [
  {
   "cell_type": "code",
   "execution_count": 9,
   "metadata": {},
   "outputs": [],
   "source": [
    "import os, io, wave, csv, json, re, glob\n",
    "import librosa\n",
    "import numpy as np\n",
    "import pandas as pd\n",
    "import matplotlib.pyplot as plt\n",
    "import scipy.io.wavfile as wav\n",
    "from scipy.fftpack import dct\n",
    "import matplotlib.cm as cm\n",
    "import matplotlib as mpl\n",
    "import collections\n",
    "import seaborn as sns\n",
    "\n",
    "from sklearn.externals import joblib\n",
    "\n",
    "from sklearn.neural_network import MLPClassifier\n",
    "from sklearn.model_selection import train_test_split\n",
    "\n",
    "from sklearn.metrics import classification_report, confusion_matrix"
   ]
  },
  {
   "cell_type": "code",
   "execution_count": 10,
   "metadata": {},
   "outputs": [],
   "source": [
    "def generateBalancedData(X_more, y_more, size):\n",
    "    \"\"\"\n",
    "    X_more = de input data\n",
    "    y_more = de label data\n",
    "    size = de maximum grootte die je wenst bijv. 300000 data totaal\n",
    "    \"\"\"\n",
    "    \n",
    "    pos_list = [i for i, x in enumerate(y_more) if x == 1][:int(size/2)]\n",
    "    neg_list = [i for i, x in enumerate(y_more) if x == 0][:int(size/2)]\n",
    "\n",
    "    balancedDataX = np.concatenate(([X_more[pos] for pos in pos_list], [X_more[neg] for neg in neg_list]), axis=0)\n",
    "    \n",
    "    balancedDataY = np.concatenate(([y_more[pos] for pos in pos_list], [y_more[neg] for neg in neg_list]), axis=0)\n",
    "        \n",
    "    return [balancedDataX, balancedDataY]"
   ]
  },
  {
   "cell_type": "code",
   "execution_count": 11,
   "metadata": {},
   "outputs": [],
   "source": [
    "csv_file_name = 'datasetboundary_distance_4ms_v1.csv'"
   ]
  },
  {
   "cell_type": "code",
   "execution_count": 12,
   "metadata": {},
   "outputs": [],
   "source": [
    "# Map waar het csv bestand zit\n",
    "data_corpus_path = '/datb/aphasia/languagedata/corpus/dataset/' + csv_file_name\n",
    "\n",
    "\n",
    "# Inlezen CSV bestand\n",
    "df_corpus_data = pd.read_csv(data_corpus_path, sep=',', skiprows=1,\n",
    "                             names=['region', 'label', 'sample_rate', 'begin', 'end', 'audiopath'])\n",
    "\n",
    "\n",
    "# Voor het weghalen van 'nan' rows in de column \"region\"\n",
    "df_corpus = df_corpus_data.dropna(subset=['region'])"
   ]
  },
  {
   "cell_type": "code",
   "execution_count": 13,
   "metadata": {},
   "outputs": [
    {
     "data": {
      "image/png": "[encoded data removed]",
      "text/plain": [
       "<Figure size 432x288 with 1 Axes>"
      ]
     },
     "metadata": {
      "needs_background": "light"
     },
     "output_type": "display_data"
    }
   ],
   "source": [
    "fig , ax = plt.subplots(figsize=(6,4))\n",
    "sns.countplot(x='label', data=df_corpus)\n",
    "plt.title(\"Verhouding tussen de labels 0 en 1\")\n",
    "plt.show()"
   ]
  },
  {
   "cell_type": "code",
   "execution_count": 14,
   "metadata": {},
   "outputs": [
    {
     "name": "stdout",
     "output_type": "stream",
     "text": [
      "Before generating more 1 labels data\n",
      "X:1996214\n",
      "y:1996214\n"
     ]
    }
   ],
   "source": [
    "# Get input data\n",
    "X = []\n",
    "\n",
    "for x in df_corpus.region:\n",
    "    trans = [float(y) for y in x.split('|')]\n",
    "    X.append(trans)\n",
    "\n",
    "# Get labels\n",
    "y = [int(x) for x in df_corpus.label]\n",
    "\n",
    "print('Before generating more 1 labels data')\n",
    "print('X:{}'.format(len(X)))\n",
    "print('y:{}'.format(len(y)))"
   ]
  },
  {
   "cell_type": "code",
   "execution_count": 15,
   "metadata": {},
   "outputs": [],
   "source": [
    "dataSize = 300000"
   ]
  },
  {
   "cell_type": "code",
   "execution_count": 16,
   "metadata": {},
   "outputs": [
    {
     "name": "stdout",
     "output_type": "stream",
     "text": [
      "After generating more 1 labels data\n",
      "X:300000\n",
      "y:300000\n"
     ]
    }
   ],
   "source": [
    "X_more, y_more = generateBalancedData(X, y, dataSize)\n",
    "\n",
    "print('After generating more 1 labels data')\n",
    "print('X:{}'.format(len(X_more)))\n",
    "print('y:{}'.format(len(y_more)))"
   ]
  },
  {
   "cell_type": "code",
   "execution_count": 17,
   "metadata": {},
   "outputs": [
    {
     "data": {
      "image/png": "[encoded data removed]",
      "text/plain": [
       "<Figure size 432x288 with 1 Axes>"
      ]
     },
     "metadata": {
      "needs_background": "light"
     },
     "output_type": "display_data"
    }
   ],
   "source": [
    "fig , ax = plt.subplots(figsize=(6,4))\n",
    "sns.countplot(x='label', data=pd.DataFrame({'label':y_more}))\n",
    "plt.title(\"After: verhouding tussen de labels 0 en 1\")\n",
    "plt.show()"
   ]
  },
  {
   "cell_type": "code",
   "execution_count": 18,
   "metadata": {},
   "outputs": [],
   "source": [
    "test_size = 0.20\n",
    "random_state = 42"
   ]
  },
  {
   "cell_type": "code",
   "execution_count": 19,
   "metadata": {},
   "outputs": [],
   "source": [
    "X_train, X_test, y_train, y_test = train_test_split(X_more, y_more, test_size=test_size, \n",
    "                                                    random_state=random_state, stratify=y_more)"
   ]
  },
  {
   "cell_type": "code",
   "execution_count": 48,
   "metadata": {},
   "outputs": [],
   "source": [
    "# Parameters voor de Classifier\n",
    "\n",
    "num_neurons = 100\n",
    "activation = 'relu'\n",
    "solver = 'adam'\n",
    "learning_rate_init = 0.0001\n",
    "random_state = 42\n",
    "max_iteratie = 300\n",
    "n_num = 100\n",
    "n_snum = 75\n",
    "\n",
    "hidden_layer_sizes = (num_neurons, num_neurons, num_neurons) # <- (num_neurons, num_neurons) is bijv. 2 lagen"
   ]
  },
  {
   "cell_type": "code",
   "execution_count": 49,
   "metadata": {},
   "outputs": [
    {
     "name": "stdout",
     "output_type": "stream",
     "text": [
      "Iteration 1, loss = 0.69018685\n",
      "Iteration 2, loss = 0.67833914\n",
      "Iteration 3, loss = 0.66755165\n",
      "Iteration 4, loss = 0.66021815\n",
      "Iteration 5, loss = 0.65475552\n",
      "Iteration 6, loss = 0.65037908\n",
      "Iteration 7, loss = 0.64657545\n",
      "Iteration 8, loss = 0.64342872\n",
      "Iteration 9, loss = 0.64034329\n",
      "Iteration 10, loss = 0.63761274\n",
      "Iteration 11, loss = 0.63470803\n",
      "Iteration 12, loss = 0.63181280\n",
      "Iteration 13, loss = 0.62935090\n",
      "Iteration 14, loss = 0.62649694\n",
      "Iteration 15, loss = 0.62387323\n",
      "Iteration 16, loss = 0.62122529\n",
      "Iteration 17, loss = 0.61866983\n",
      "Iteration 18, loss = 0.61607186\n",
      "Iteration 19, loss = 0.61344346\n",
      "Iteration 20, loss = 0.61086281\n",
      "Iteration 21, loss = 0.60853201\n",
      "Iteration 22, loss = 0.60613223\n",
      "Iteration 23, loss = 0.60363410\n",
      "Iteration 24, loss = 0.60117948\n",
      "Iteration 25, loss = 0.59878158\n",
      "Iteration 26, loss = 0.59597562\n",
      "Iteration 27, loss = 0.59339200\n",
      "Iteration 28, loss = 0.59147584\n",
      "Iteration 29, loss = 0.58871127\n",
      "Iteration 30, loss = 0.58638734\n",
      "Iteration 31, loss = 0.58380282\n",
      "Iteration 32, loss = 0.58183282\n",
      "Iteration 33, loss = 0.57902614\n",
      "Iteration 34, loss = 0.57655356\n",
      "Iteration 35, loss = 0.57427344\n",
      "Iteration 36, loss = 0.57214879\n",
      "Iteration 37, loss = 0.56984550\n",
      "Iteration 38, loss = 0.56749058\n",
      "Iteration 39, loss = 0.56545706\n",
      "Iteration 40, loss = 0.56299368\n",
      "Iteration 41, loss = 0.56072754\n",
      "Iteration 42, loss = 0.55864572\n",
      "Iteration 43, loss = 0.55679786\n",
      "Iteration 44, loss = 0.55453385\n",
      "Iteration 45, loss = 0.55240391\n",
      "Iteration 46, loss = 0.55044337\n",
      "Iteration 47, loss = 0.54815015\n",
      "Iteration 48, loss = 0.54645255\n",
      "Iteration 49, loss = 0.54434772\n",
      "Iteration 50, loss = 0.54253570\n",
      "Iteration 51, loss = 0.54030154\n",
      "Iteration 52, loss = 0.53822211\n",
      "Iteration 53, loss = 0.53672767\n",
      "Iteration 54, loss = 0.53457547\n",
      "Iteration 55, loss = 0.53343932\n",
      "Iteration 56, loss = 0.53124525\n",
      "Iteration 57, loss = 0.52994356\n",
      "Iteration 58, loss = 0.52747260\n",
      "Iteration 59, loss = 0.52641937\n",
      "Iteration 60, loss = 0.52418379\n",
      "Iteration 61, loss = 0.52254882\n",
      "Iteration 62, loss = 0.52074295\n",
      "Iteration 63, loss = 0.51912428\n",
      "Iteration 64, loss = 0.51796140\n",
      "Iteration 65, loss = 0.51608587\n",
      "Iteration 66, loss = 0.51478746\n",
      "Iteration 67, loss = 0.51259904\n",
      "Iteration 68, loss = 0.51119911\n",
      "Iteration 69, loss = 0.50988790\n",
      "Iteration 70, loss = 0.50834818\n",
      "Iteration 71, loss = 0.50690695\n",
      "Iteration 72, loss = 0.50551441\n",
      "Iteration 73, loss = 0.50341187\n",
      "Iteration 74, loss = 0.50250456\n",
      "Iteration 75, loss = 0.50093507\n",
      "Iteration 76, loss = 0.49995092\n",
      "Iteration 77, loss = 0.49852306\n",
      "Iteration 78, loss = 0.49673848\n",
      "Iteration 79, loss = 0.49573823\n",
      "Iteration 80, loss = 0.49395447\n",
      "Iteration 81, loss = 0.49264970\n",
      "Iteration 82, loss = 0.49168121\n",
      "Iteration 83, loss = 0.49000323\n",
      "Iteration 84, loss = 0.48948458\n",
      "Iteration 85, loss = 0.48756590\n",
      "Iteration 86, loss = 0.48656909\n",
      "Iteration 87, loss = 0.48560722\n",
      "Iteration 88, loss = 0.48381786\n",
      "Iteration 89, loss = 0.48303415\n",
      "Iteration 90, loss = 0.48161762\n",
      "Iteration 91, loss = 0.48035945\n",
      "Iteration 92, loss = 0.47894044\n",
      "Iteration 93, loss = 0.47812549\n",
      "Iteration 94, loss = 0.47669459\n",
      "Iteration 95, loss = 0.47661008\n",
      "Iteration 96, loss = 0.47473257\n",
      "Iteration 97, loss = 0.47369643\n",
      "Iteration 98, loss = 0.47209042\n",
      "Iteration 99, loss = 0.47194778\n",
      "Iteration 100, loss = 0.46995093\n",
      "Iteration 101, loss = 0.46917856\n",
      "Iteration 102, loss = 0.46812362\n",
      "Iteration 103, loss = 0.46656759\n",
      "Iteration 104, loss = 0.46652012\n",
      "Iteration 105, loss = 0.46480373\n",
      "Iteration 106, loss = 0.46327416\n",
      "Iteration 107, loss = 0.46251042\n",
      "Iteration 108, loss = 0.46178455\n",
      "Iteration 109, loss = 0.46022206\n",
      "Iteration 110, loss = 0.46034994\n",
      "Iteration 111, loss = 0.45957521\n",
      "Iteration 112, loss = 0.45735869\n",
      "Iteration 113, loss = 0.45688073\n",
      "Iteration 114, loss = 0.45618012\n",
      "Iteration 115, loss = 0.45499320\n",
      "Iteration 116, loss = 0.45414520\n",
      "Iteration 117, loss = 0.45336340\n",
      "Iteration 118, loss = 0.45278271\n",
      "Iteration 119, loss = 0.45270834\n",
      "Iteration 120, loss = 0.45137925\n",
      "Iteration 121, loss = 0.44929908\n",
      "Iteration 122, loss = 0.44874241\n",
      "Iteration 123, loss = 0.44861212\n",
      "Iteration 124, loss = 0.44649022\n",
      "Iteration 125, loss = 0.44750200\n",
      "Iteration 126, loss = 0.44539026\n",
      "Iteration 127, loss = 0.44403102\n",
      "Iteration 128, loss = 0.44433752\n",
      "Iteration 129, loss = 0.44356006\n",
      "Iteration 130, loss = 0.44142689\n",
      "Iteration 131, loss = 0.44169478\n",
      "Iteration 132, loss = 0.44120189\n",
      "Iteration 133, loss = 0.44069679\n",
      "Iteration 134, loss = 0.43922429\n",
      "Iteration 135, loss = 0.43814976\n",
      "Iteration 136, loss = 0.43787186\n",
      "Iteration 137, loss = 0.43713738\n",
      "Iteration 138, loss = 0.43708775\n",
      "Iteration 139, loss = 0.43547922\n",
      "Iteration 140, loss = 0.43454895\n",
      "Iteration 141, loss = 0.43509758\n",
      "Iteration 142, loss = 0.43289442\n",
      "Iteration 143, loss = 0.43355696\n",
      "Iteration 144, loss = 0.43328974\n",
      "Iteration 145, loss = 0.43094055\n",
      "Iteration 146, loss = 0.43004674\n",
      "Iteration 147, loss = 0.43017279\n",
      "Iteration 148, loss = 0.42958143\n",
      "Iteration 149, loss = 0.42924376\n",
      "Iteration 150, loss = 0.42746304\n",
      "Iteration 151, loss = 0.42751171\n",
      "Iteration 152, loss = 0.42622399\n",
      "Iteration 153, loss = 0.42647250\n",
      "Iteration 154, loss = 0.42528669\n",
      "Iteration 155, loss = 0.42538826\n",
      "Iteration 156, loss = 0.42450474\n",
      "Iteration 157, loss = 0.42320350\n",
      "Iteration 158, loss = 0.42406749\n",
      "Iteration 159, loss = 0.42184332\n",
      "Iteration 160, loss = 0.42176632\n",
      "Iteration 161, loss = 0.42128875\n",
      "Iteration 162, loss = 0.42034577\n",
      "Iteration 163, loss = 0.42118184\n",
      "Iteration 164, loss = 0.41889910\n",
      "Iteration 165, loss = 0.41919268\n",
      "Iteration 166, loss = 0.41841821\n",
      "Iteration 167, loss = 0.41769779\n",
      "Iteration 168, loss = 0.41608952\n",
      "Iteration 169, loss = 0.41731904\n",
      "Iteration 170, loss = 0.41674029\n",
      "Iteration 171, loss = 0.41466454\n",
      "Iteration 172, loss = 0.41408373\n",
      "Iteration 173, loss = 0.41477448\n",
      "Iteration 174, loss = 0.41445539\n",
      "Iteration 175, loss = 0.41313472\n",
      "Iteration 176, loss = 0.41231091\n",
      "Iteration 177, loss = 0.41184938\n",
      "Iteration 178, loss = 0.41278384\n",
      "Iteration 179, loss = 0.41161110\n",
      "Iteration 180, loss = 0.41020375\n",
      "Iteration 181, loss = 0.41050060\n",
      "Iteration 182, loss = 0.40947376\n",
      "Iteration 183, loss = 0.40930420\n",
      "Iteration 184, loss = 0.40819892\n",
      "Iteration 185, loss = 0.40858744\n",
      "Iteration 186, loss = 0.40719449\n",
      "Iteration 187, loss = 0.40776250\n",
      "Iteration 188, loss = 0.40629028\n",
      "Iteration 189, loss = 0.40710808\n",
      "Iteration 190, loss = 0.40550259\n",
      "Iteration 191, loss = 0.40497071\n",
      "Iteration 192, loss = 0.40481123\n",
      "Iteration 193, loss = 0.40349776\n",
      "Iteration 194, loss = 0.40407528\n",
      "Iteration 195, loss = 0.40326802\n",
      "Iteration 196, loss = 0.40302232\n",
      "Iteration 197, loss = 0.40244407\n",
      "Iteration 198, loss = 0.40306110\n",
      "Iteration 199, loss = 0.40065033\n",
      "Iteration 200, loss = 0.40165361\n",
      "Iteration 201, loss = 0.40036437\n",
      "Iteration 202, loss = 0.40040608\n",
      "Iteration 203, loss = 0.39899142\n",
      "Iteration 204, loss = 0.39999347\n",
      "Iteration 205, loss = 0.39754286\n",
      "Iteration 206, loss = 0.39879308\n",
      "Iteration 207, loss = 0.39882249\n",
      "Iteration 208, loss = 0.39857457\n",
      "Iteration 209, loss = 0.39646076\n",
      "Iteration 210, loss = 0.39620125\n",
      "Iteration 211, loss = 0.39693076\n",
      "Iteration 212, loss = 0.39549938\n",
      "Iteration 213, loss = 0.39379933\n",
      "Iteration 214, loss = 0.39531347\n",
      "Iteration 215, loss = 0.39440153\n",
      "Iteration 216, loss = 0.39393440\n",
      "Iteration 217, loss = 0.39409838\n",
      "Iteration 218, loss = 0.39378575\n",
      "Iteration 219, loss = 0.39365267\n",
      "Iteration 220, loss = 0.39186404\n",
      "Iteration 221, loss = 0.39307962\n",
      "Iteration 222, loss = 0.39200765\n",
      "Iteration 223, loss = 0.39064872\n",
      "Iteration 224, loss = 0.38949049\n",
      "Iteration 225, loss = 0.39044897\n",
      "Iteration 226, loss = 0.39046657\n",
      "Iteration 227, loss = 0.39003388\n",
      "Iteration 228, loss = 0.38893312\n",
      "Iteration 229, loss = 0.38883563\n",
      "Iteration 230, loss = 0.38929956\n",
      "Iteration 231, loss = 0.38939887\n",
      "Iteration 232, loss = 0.38760058\n",
      "Iteration 233, loss = 0.38686645\n",
      "Iteration 234, loss = 0.38606647\n",
      "Iteration 235, loss = 0.38774610\n",
      "Iteration 236, loss = 0.38445212\n",
      "Iteration 237, loss = 0.38694668\n",
      "Iteration 238, loss = 0.38502024\n",
      "Iteration 239, loss = 0.38580683\n",
      "Iteration 240, loss = 0.38625576\n",
      "Iteration 241, loss = 0.38374827\n",
      "Iteration 242, loss = 0.38398133\n",
      "Iteration 243, loss = 0.38378759\n",
      "Iteration 244, loss = 0.38358436\n",
      "Iteration 245, loss = 0.38146042\n",
      "Iteration 246, loss = 0.38436227\n",
      "Iteration 247, loss = 0.38305955\n",
      "Iteration 248, loss = 0.38098125\n",
      "Iteration 249, loss = 0.38242155\n",
      "Iteration 250, loss = 0.38265201\n",
      "Iteration 251, loss = 0.38079229\n",
      "Iteration 252, loss = 0.38270256\n"
     ]
    },
    {
     "name": "stdout",
     "output_type": "stream",
     "text": [
      "Iteration 253, loss = 0.37976049\n",
      "Iteration 254, loss = 0.37863470\n",
      "Iteration 255, loss = 0.38151983\n",
      "Iteration 256, loss = 0.37897594\n",
      "Iteration 257, loss = 0.37918139\n",
      "Iteration 258, loss = 0.37861726\n",
      "Iteration 259, loss = 0.38054893\n",
      "Iteration 260, loss = 0.37817136\n",
      "Iteration 261, loss = 0.37651079\n",
      "Iteration 262, loss = 0.37953627\n",
      "Iteration 263, loss = 0.37573722\n",
      "Iteration 264, loss = 0.37732874\n",
      "Iteration 265, loss = 0.37625474\n",
      "Iteration 266, loss = 0.37679015\n",
      "Iteration 267, loss = 0.37548839\n",
      "Iteration 268, loss = 0.37632756\n",
      "Iteration 269, loss = 0.37380027\n",
      "Iteration 270, loss = 0.37339973\n",
      "Iteration 271, loss = 0.37430231\n",
      "Iteration 272, loss = 0.37407304\n",
      "Iteration 273, loss = 0.37272329\n",
      "Iteration 274, loss = 0.37339076\n",
      "Iteration 275, loss = 0.37224008\n",
      "Iteration 276, loss = 0.37467788\n",
      "Iteration 277, loss = 0.37349687\n",
      "Iteration 278, loss = 0.37115558\n",
      "Iteration 279, loss = 0.37196804\n",
      "Iteration 280, loss = 0.37253488\n",
      "Iteration 281, loss = 0.37186896\n",
      "Iteration 282, loss = 0.36967043\n",
      "Iteration 283, loss = 0.37081156\n",
      "Iteration 284, loss = 0.37253231\n",
      "Iteration 285, loss = 0.36823151\n",
      "Iteration 286, loss = 0.36973805\n",
      "Iteration 287, loss = 0.37047673\n",
      "Iteration 288, loss = 0.36802420\n",
      "Iteration 289, loss = 0.36792308\n",
      "Iteration 290, loss = 0.36733643\n",
      "Iteration 291, loss = 0.36772639\n",
      "Iteration 292, loss = 0.36779405\n",
      "Iteration 293, loss = 0.36762587\n",
      "Iteration 294, loss = 0.36960770\n",
      "Iteration 295, loss = 0.36577651\n",
      "Iteration 296, loss = 0.36757310\n",
      "Iteration 297, loss = 0.36767395\n",
      "Iteration 298, loss = 0.36772444\n",
      "Iteration 299, loss = 0.36465567\n",
      "Iteration 300, loss = 0.36641713\n"
     ]
    },
    {
     "name": "stderr",
     "output_type": "stream",
     "text": [
      "/opt/jupyterhub/anaconda/lib/python3.6/site-packages/sklearn/neural_network/multilayer_perceptron.py:562: ConvergenceWarning: Stochastic Optimizer: Maximum iterations (300) reached and the optimization hasn't converged yet.\n",
      "  % self.max_iter, ConvergenceWarning)\n"
     ]
    },
    {
     "data": {
      "text/plain": [
       "MLPClassifier(activation='relu', alpha=1e-05, batch_size='auto', beta_1=0.9,\n",
       "       beta_2=0.999, early_stopping=False, epsilon=1e-08,\n",
       "       hidden_layer_sizes=(100, 100, 100, 100, 100, 75, 75, 75),\n",
       "       learning_rate='adaptive', learning_rate_init=0.0001, max_iter=300,\n",
       "       momentum=0.9, n_iter_no_change=10, nesterovs_momentum=True,\n",
       "       power_t=0.5, random_state=42, shuffle=True, solver='adam',\n",
       "       tol=0.0001, validation_fraction=0.1, verbose=1, warm_start=False)"
      ]
     },
     "execution_count": 49,
     "metadata": {},
     "output_type": "execute_result"
    }
   ],
   "source": [
    "# init MLPClassifier\n",
    "mlp = MLPClassifier(activation=activation, solver=solver, alpha=1e-5, learning_rate='adaptive',verbose=1,learning_rate_init=0.0001, \n",
    "                    hidden_layer_sizes=(n_num, n_num, n_num, n_num, n_num, n_snum, n_snum, n_snum,), random_state=random_state, max_iter=max_iteratie)\n",
    "\n",
    "# Train MLPClassifier\n",
    "mlp.fit(X_train, y_train)"
   ]
  },
  {
   "cell_type": "code",
   "execution_count": 50,
   "metadata": {},
   "outputs": [
    {
     "name": "stdout",
     "output_type": "stream",
     "text": [
      "              precision    recall  f1-score   support\n",
      "\n",
      "           0       0.55      0.63      0.58     30000\n",
      "           1       0.56      0.48      0.52     30000\n",
      "\n",
      "   micro avg       0.55      0.55      0.55     60000\n",
      "   macro avg       0.55      0.55      0.55     60000\n",
      "weighted avg       0.55      0.55      0.55     60000\n",
      "\n"
     ]
    }
   ],
   "source": [
    "predictions = mlp.predict(X_test)\n",
    "\n",
    "print(classification_report(y_test, predictions))"
   ]
  },
  {
   "cell_type": "code",
   "execution_count": 51,
   "metadata": {},
   "outputs": [
    {
     "name": "stdout",
     "output_type": "stream",
     "text": [
      "Train_score:0.8250666666666666\n",
      "Test_score:0.5528166666666666\n"
     ]
    }
   ],
   "source": [
    "train_score = mlp.score(X_train, y_train)\n",
    "test_score = mlp.score(X_test, y_test)\n",
    "print('Train_score:{}'.format(train_score))\n",
    "print('Test_score:{}'.format(test_score))"
   ]
  },
  {
   "cell_type": "code",
   "execution_count": 52,
   "metadata": {},
   "outputs": [],
   "source": [
    "# file name\n",
    "filename = 'mlp_model_test_H7_la_small_scikit_n120_h3_l00001_i4000.sav'\n",
    "\n",
    "# In map\n",
    "folder = '/datb/aphasia/languagedata/corpus/result/'"
   ]
  },
  {
   "cell_type": "code",
   "execution_count": 54,
   "metadata": {},
   "outputs": [
    {
     "data": {
      "text/plain": [
       "['/datb/aphasia/languagedata/corpus/result/mlp_model_test_H7_la_small_scikit_n120_h3_l00001_i4000.sav']"
      ]
     },
     "execution_count": 54,
     "metadata": {},
     "output_type": "execute_result"
    }
   ],
   "source": [
    "# save the model to disk\n",
    "joblib.dump(mlp, folder+filename)"
   ]
  },
  {
   "cell_type": "code",
   "execution_count": 53,
   "metadata": {},
   "outputs": [
    {
     "ename": "FileNotFoundError",
     "evalue": "[Errno 2] No such file or directory: '/datb/aphasia/languagedata/corpus/result/mlp_model_test_H7_la_small_scikit_n120_h3_l00001_i4000.sav'",
     "output_type": "error",
     "traceback": [
      "\u001b[0;31m---------------------------------------------------------------------------\u001b[0m",
      "\u001b[0;31mFileNotFoundError\u001b[0m                         Traceback (most recent call last)",
      "\u001b[0;32m<ipython-input-53-659a2bda02e3>\u001b[0m in \u001b[0;36m<module>\u001b[0;34m\u001b[0m\n\u001b[1;32m      1\u001b[0m \u001b[0;31m# load the model from disk\u001b[0m\u001b[0;34m\u001b[0m\u001b[0;34m\u001b[0m\u001b[0;34m\u001b[0m\u001b[0m\n\u001b[0;32m----> 2\u001b[0;31m \u001b[0mloaded_model\u001b[0m \u001b[0;34m=\u001b[0m \u001b[0mjoblib\u001b[0m\u001b[0;34m.\u001b[0m\u001b[0mload\u001b[0m\u001b[0;34m(\u001b[0m\u001b[0mopen\u001b[0m\u001b[0;34m(\u001b[0m\u001b[0mfolder\u001b[0m\u001b[0;34m+\u001b[0m\u001b[0mfilename\u001b[0m\u001b[0;34m,\u001b[0m \u001b[0;34m'rb'\u001b[0m\u001b[0;34m)\u001b[0m\u001b[0;34m)\u001b[0m\u001b[0;34m\u001b[0m\u001b[0;34m\u001b[0m\u001b[0m\n\u001b[0m\u001b[1;32m      3\u001b[0m \u001b[0mresult\u001b[0m \u001b[0;34m=\u001b[0m \u001b[0mloaded_model\u001b[0m\u001b[0;34m.\u001b[0m\u001b[0mscore\u001b[0m\u001b[0;34m(\u001b[0m\u001b[0mX_test\u001b[0m\u001b[0;34m,\u001b[0m \u001b[0my_test\u001b[0m\u001b[0;34m)\u001b[0m\u001b[0;34m\u001b[0m\u001b[0;34m\u001b[0m\u001b[0m\n\u001b[1;32m      4\u001b[0m \u001b[0mprint\u001b[0m\u001b[0;34m(\u001b[0m\u001b[0;34m'Test_score:{}'\u001b[0m\u001b[0;34m.\u001b[0m\u001b[0mformat\u001b[0m\u001b[0;34m(\u001b[0m\u001b[0mtest_score\u001b[0m\u001b[0;34m)\u001b[0m\u001b[0;34m)\u001b[0m\u001b[0;34m\u001b[0m\u001b[0;34m\u001b[0m\u001b[0m\n",
      "\u001b[0;31mFileNotFoundError\u001b[0m: [Errno 2] No such file or directory: '/datb/aphasia/languagedata/corpus/result/mlp_model_test_H7_la_small_scikit_n120_h3_l00001_i4000.sav'"
     ]
    }
   ],
   "source": [
    "# load the model from disk\n",
    "loaded_model = joblib.load(open(folder+filename, 'rb'))\n",
    "result = loaded_model.score(X_test, y_test)\n",
    "print('Test_score:{}'.format(test_score))"
   ]
  },
  {
   "cell_type": "code",
   "execution_count": null,
   "metadata": {},
   "outputs": [],
   "source": []
  }
 ],
 "metadata": {
  "kernelspec": {
   "display_name": "Python 3",
   "language": "python",
   "name": "python3"
  },
  "language_info": {
   "codemirror_mode": {
    "name": "ipython",
    "version": 3
   },
   "file_extension": ".py",
   "mimetype": "text/x-python",
   "name": "python",
   "nbconvert_exporter": "python",
   "pygments_lexer": "ipython3",
   "version": "3.6.7"
  }
 },
 "nbformat": 4,
 "nbformat_minor": 2
}
