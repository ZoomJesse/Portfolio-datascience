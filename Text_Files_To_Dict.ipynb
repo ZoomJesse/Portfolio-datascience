{
 "cells": [
  {
   "cell_type": "code",
   "execution_count": 1,
   "metadata": {},
   "outputs": [],
   "source": [
    "# in dit nodeboek worden verschillende textfiles ingelezen en omgezet naar een dictionary waarin elk woord maar 1 keer voorkomt. \n",
    "# Samen gemaakt met renee.\n",
    "import glob\n",
    "\n",
    "folderOrig ='/datb/aphasia/languagedata/uva/transform/clean/'\n",
    "new_filepath ='/datb/aphasia/languagedata/uva/transform/uniquewordfile/new_dict'\n",
    "            \n",
    "textdict = {}\n",
    "\n",
    "def initAllFiles(folder):\n",
    "    texttmp = glob.glob(folder+'*.txt')\n",
    "    \n",
    "    for file in texttmp:\n",
    "        text = file.split('/')[-1]\n",
    "        textdict[text] = file\n",
    "\n",
    "initAllFiles(folderOrig)\n",
    "\n",
    "def get_unique_words_from_dict(textdict):\n",
    "    unique_words= set()\n",
    "    for key, val in textdict.items():\n",
    "        with open (val, \"r\") as current_file:\n",
    "            filelines = current_file.readlines()\n",
    "            for lines in filelines[0: ]:\n",
    "                split_lines = lines.split(\" \")\n",
    "                for word in split_lines:\n",
    "                    unique_words.add(word)\n",
    "    return unique_words\n",
    "\n",
    "# new_file_path is het absolute path inclusief bestandsnaam\n",
    "def write_unique_words_to_file(new_file_path, uniquewords):\n",
    "    with open (new_file_path, \"w\") as new_file:\n",
    "        for word in uniquewords:\n",
    "            new_file.write(word+'\\n')\n",
    "            \n",
    "    \n",
    "write_unique_words_to_file(new_filepath,get_unique_words_from_dict(textdict))\n",
    "    \n",
    "        "
   ]
  },
  {
   "cell_type": "code",
   "execution_count": 38,
   "metadata": {},
   "outputs": [
    {
     "name": "stdout",
     "output_type": "stream",
     "text": [
      "{'boom', 'oma', 'auto'}\n"
     ]
    }
   ],
   "source": []
  }
 ],
 "metadata": {
  "kernelspec": {
   "display_name": "Python 3",
   "language": "python",
   "name": "python3"
  },
  "language_info": {
   "codemirror_mode": {
    "name": "ipython",
    "version": 3
   },
   "file_extension": ".py",
   "mimetype": "text/x-python",
   "name": "python",
   "nbconvert_exporter": "python",
   "pygments_lexer": "ipython3",
   "version": "3.6.6"
  }
 },
 "nbformat": 4,
 "nbformat_minor": 2
}
