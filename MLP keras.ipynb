{
 "cells": [
  {
   "cell_type": "code",
   "execution_count": 1,
   "metadata": {},
   "outputs": [
    {
     "name": "stderr",
     "output_type": "stream",
     "text": [
      "Using TensorFlow backend.\n",
      "/opt/jupyterhub/anaconda/lib/python3.6/importlib/_bootstrap.py:219: RuntimeWarning: compiletime version 3.5 of module 'tensorflow.python.framework.fast_tensor_util' does not match runtime version 3.6\n",
      "  return f(*args, **kwds)\n"
     ]
    }
   ],
   "source": [
    "import os, io, wave, csv, json, re, glob\n",
    "import librosa\n",
    "import numpy as np\n",
    "import pandas as pd\n",
    "import matplotlib.pyplot as plt\n",
    "import scipy.io.wavfile as wav\n",
    "from scipy.fftpack import dct\n",
    "import matplotlib.cm as cm\n",
    "import matplotlib as mpl\n",
    "import collections\n",
    "import seaborn as sns\n",
    "from keras import optimizers\n",
    "\n",
    "from sklearn.externals import joblib\n",
    "\n",
    "from sklearn.neural_network import MLPClassifier\n",
    "from sklearn.model_selection import train_test_split\n",
    "\n",
    "from sklearn.metrics import classification_report, confusion_matrix\n",
    "from keras.layers import Dropout"
   ]
  },
  {
   "cell_type": "code",
   "execution_count": 2,
   "metadata": {},
   "outputs": [],
   "source": [
    "import numpy\n",
    "import os\n",
    "import pandas\n",
    "from keras.models import Sequential\n",
    "from keras.layers import Dense\n",
    "from keras.wrappers.scikit_learn import KerasClassifier\n",
    "from keras.utils import np_utils\n",
    "from sklearn.model_selection import cross_val_score\n",
    "from sklearn.model_selection import KFold\n",
    "from sklearn.preprocessing import LabelEncoder\n",
    "from sklearn.pipeline import Pipeline\n",
    "import tensorflow as tf\n"
   ]
  },
  {
   "cell_type": "code",
   "execution_count": 3,
   "metadata": {},
   "outputs": [],
   "source": [
    "os.environ[\"CUDA_VISIBLE_DEVICES\"]=\"1\"\n",
    "\n",
    "config = tf.ConfigProto(device_count = {'GPU': 0})\n",
    "config.gpu_options.per_process_gpu_memory_fraction = 0.5\n",
    "config.gpu_options.allow_growth = True"
   ]
  },
  {
   "cell_type": "code",
   "execution_count": 4,
   "metadata": {},
   "outputs": [],
   "source": [
    "def generateBalancedData(X_more, y_more, size):\n",
    "    \"\"\"\n",
    "    X_more = de input data\n",
    "    y_more = de label data\n",
    "    size = de maximum grootte die je wenst bijv. 300000 data totaal\n",
    "    \"\"\"\n",
    "    \n",
    "    pos_list = [i for i, x in enumerate(y_more) if x == 1][:int(size/2)]\n",
    "    neg_list = [i for i, x in enumerate(y_more) if x == 0][:int(size/2)]\n",
    "\n",
    "    balancedDataX = np.concatenate(([X_more[pos] for pos in pos_list], [X_more[neg] for neg in neg_list]), axis=0)\n",
    "    \n",
    "    balancedDataY = np.concatenate(([y_more[pos] for pos in pos_list], [y_more[neg] for neg in neg_list]), axis=0)\n",
    "        \n",
    "    return [balancedDataX, balancedDataY]"
   ]
  },
  {
   "cell_type": "code",
   "execution_count": 5,
   "metadata": {},
   "outputs": [],
   "source": [
    "csv_file_name = 'datasetboundary_distance_4ms_v1.csv'"
   ]
  },
  {
   "cell_type": "code",
   "execution_count": 6,
   "metadata": {},
   "outputs": [],
   "source": [
    "# Map waar het csv bestand zit\n",
    "data_corpus_path = '/datb/aphasia/languagedata/corpus/dataset/' + csv_file_name\n",
    "\n",
    "\n",
    "# Inlezen CSV bestand\n",
    "df_corpus_data = pd.read_csv(data_corpus_path, sep=',', skiprows=1,\n",
    "                             names=['region', 'label', 'sample_rate', 'begin', 'end', 'audiopath'])\n",
    "\n",
    "\n",
    "# Voor het weghalen van 'nan' rows in de column \"region\"\n",
    "df_corpus = df_corpus_data.dropna(subset=['region'])"
   ]
  },
  {
   "cell_type": "code",
   "execution_count": 7,
   "metadata": {},
   "outputs": [
    {
     "data": {
      "image/png": "[encoded data removed]",
      "text/plain": [
       "<Figure size 432x288 with 1 Axes>"
      ]
     },
     "metadata": {
      "needs_background": "light"
     },
     "output_type": "display_data"
    }
   ],
   "source": [
    "fig , ax = plt.subplots(figsize=(6,4))\n",
    "sns.countplot(x='label', data=df_corpus)\n",
    "plt.title(\"Verhouding tussen de labels 0 en 1\")\n",
    "plt.show()"
   ]
  },
  {
   "cell_type": "code",
   "execution_count": 8,
   "metadata": {},
   "outputs": [
    {
     "name": "stdout",
     "output_type": "stream",
     "text": [
      "Before generating more 1 labels data\n",
      "X:1996214\n",
      "y:1996214\n"
     ]
    }
   ],
   "source": [
    "# Get input data\n",
    "X = []\n",
    "\n",
    "for x in df_corpus.region:\n",
    "    trans = [float(y) for y in x.split('|')]\n",
    "    X.append(trans)\n",
    "\n",
    "# Get labels\n",
    "y = [int(x) for x in df_corpus.label]\n",
    "\n",
    "print('Before generating more 1 labels data')\n",
    "print('X:{}'.format(len(X)))\n",
    "print('y:{}'.format(len(y)))"
   ]
  },
  {
   "cell_type": "code",
   "execution_count": 9,
   "metadata": {},
   "outputs": [],
   "source": [
    "dataSize = 300000"
   ]
  },
  {
   "cell_type": "code",
   "execution_count": 10,
   "metadata": {},
   "outputs": [
    {
     "name": "stdout",
     "output_type": "stream",
     "text": [
      "After generating more 1 labels data\n",
      "X:300000\n",
      "y:300000\n"
     ]
    }
   ],
   "source": [
    "X_more, y_more = generateBalancedData(X, y, dataSize)\n",
    "\n",
    "print('After generating more 1 labels data')\n",
    "print('X:{}'.format(len(X_more)))\n",
    "print('y:{}'.format(len(y_more)))"
   ]
  },
  {
   "cell_type": "code",
   "execution_count": 11,
   "metadata": {},
   "outputs": [
    {
     "data": {
      "image/png": "[encoded data removed]",
      "text/plain": [
       "<Figure size 432x288 with 1 Axes>"
      ]
     },
     "metadata": {
      "needs_background": "light"
     },
     "output_type": "display_data"
    }
   ],
   "source": [
    "fig , ax = plt.subplots(figsize=(6,4))\n",
    "sns.countplot(x='label', data=pd.DataFrame({'label':y_more}))\n",
    "plt.title(\"After: verhouding tussen de labels 0 en 1\")\n",
    "plt.show()"
   ]
  },
  {
   "cell_type": "code",
   "execution_count": 12,
   "metadata": {},
   "outputs": [],
   "source": [
    "test_size = 0.20\n",
    "random_state = 42"
   ]
  },
  {
   "cell_type": "code",
   "execution_count": 13,
   "metadata": {},
   "outputs": [],
   "source": [
    "X_train, X_test, y_train, y_test = train_test_split(X_more, y_more, test_size=test_size, \n",
    "                                                    random_state=random_state, stratify=y_more)"
   ]
  },
  {
   "cell_type": "code",
   "execution_count": 14,
   "metadata": {},
   "outputs": [],
   "source": [
    "\n",
    "import numpy\n",
    "import pandas\n",
    "from keras.models import Sequential\n",
    "from keras.layers import Dense\n",
    "from keras.wrappers.scikit_learn import KerasClassifier\n",
    "from sklearn.model_selection import cross_val_score\n",
    "from sklearn.preprocessing import LabelEncoder\n",
    "from sklearn.model_selection import StratifiedKFold\n",
    "from sklearn.preprocessing import StandardScaler\n",
    "from sklearn.pipeline import Pipeline\n",
    "from keras.utils import plot_model\n",
    "from IPython.display import SVG\n",
    "\n"
   ]
  },
  {
   "cell_type": "code",
   "execution_count": 15,
   "metadata": {},
   "outputs": [],
   "source": [
    "# encode class values as integers\n",
    "encoder = LabelEncoder()\n",
    "encoder.fit(y_train)\n",
    "encoded_Y = encoder.transform(y_train)"
   ]
  },
  {
   "cell_type": "code",
   "execution_count": 16,
   "metadata": {},
   "outputs": [],
   "source": [
    "# define baseline model\n",
    "def  create_baseline():\n",
    "    # create model\n",
    "    model = Sequential()\n",
    "    model.add(Dropout(0.2, input_shape=(52,)))\n",
    "    model.add(Dense(100, activation='relu'))\n",
    "    model.add(Dense(100, activation='relu'))\n",
    "    model.add(Dense(100, activation='relu'))\n",
    "    model.add(Dense(2, activation='softmax'))\n",
    "    # Compile model\n",
    "    adam = optimizers.Adam(lr=0.01)\n",
    "    model.compile(loss='categorical_crossentropy', optimizer= adam, metrics=['accuracy'])\n",
    "    \n",
    "    return model"
   ]
  },
  {
   "cell_type": "code",
   "execution_count": 17,
   "metadata": {},
   "outputs": [],
   "source": [
    "estimator = KerasClassifier(build_fn=create_baseline, epochs=100, batch_size=1000, verbose=1)\n",
    "kfold = StratifiedKFold(n_splits=2, shuffle=True, random_state=42)\n",
    "# results = cross_val_score(estimator, X_train, encoded_Y, cv=kfold)\n",
    "# print(\"Results: %.2f%% (%.2f%%)\" % (results.mean()*100, results.std()*100))"
   ]
  },
  {
   "cell_type": "code",
   "execution_count": 18,
   "metadata": {},
   "outputs": [
    {
     "name": "stdout",
     "output_type": "stream",
     "text": [
      "Train on 216000 samples, validate on 24000 samples\n",
      "Epoch 1/100\n",
      "216000/216000 [==============================] - 8s - loss: 0.6925 - acc: 0.5157 - val_loss: 0.6867 - val_acc: 0.5229\n",
      "Epoch 2/100\n",
      "216000/216000 [==============================] - 6s - loss: 0.6853 - acc: 0.5328 - val_loss: 0.6760 - val_acc: 0.5570\n",
      "Epoch 3/100\n",
      "216000/216000 [==============================] - 6s - loss: 0.6764 - acc: 0.5571 - val_loss: 0.6668 - val_acc: 0.5730\n",
      "Epoch 4/100\n",
      "216000/216000 [==============================] - 6s - loss: 0.6714 - acc: 0.5646 - val_loss: 0.6602 - val_acc: 0.5808\n",
      "Epoch 5/100\n",
      "216000/216000 [==============================] - 6s - loss: 0.6696 - acc: 0.5656 - val_loss: 0.6711 - val_acc: 0.5610\n",
      "Epoch 6/100\n",
      "216000/216000 [==============================] - 6s - loss: 0.6678 - acc: 0.5707 - val_loss: 0.6621 - val_acc: 0.5810\n",
      "Epoch 7/100\n",
      "216000/216000 [==============================] - 6s - loss: 0.6658 - acc: 0.5706 - val_loss: 0.6600 - val_acc: 0.5884\n",
      "Epoch 8/100\n",
      "216000/216000 [==============================] - 6s - loss: 0.6650 - acc: 0.5723 - val_loss: 0.6543 - val_acc: 0.5790\n",
      "Epoch 9/100\n",
      "216000/216000 [==============================] - 6s - loss: 0.6645 - acc: 0.5729 - val_loss: 0.6566 - val_acc: 0.5828\n",
      "Epoch 10/100\n",
      "216000/216000 [==============================] - 6s - loss: 0.6639 - acc: 0.5710 - val_loss: 0.6535 - val_acc: 0.5758\n",
      "Epoch 11/100\n",
      "216000/216000 [==============================] - 6s - loss: 0.6631 - acc: 0.5669 - val_loss: 0.6531 - val_acc: 0.5780\n",
      "Epoch 12/100\n",
      "216000/216000 [==============================] - 6s - loss: 0.6632 - acc: 0.5702 - val_loss: 0.6537 - val_acc: 0.5730\n",
      "Epoch 13/100\n",
      "216000/216000 [==============================] - 6s - loss: 0.6627 - acc: 0.5657 - val_loss: 0.6526 - val_acc: 0.5785\n",
      "Epoch 14/100\n",
      "216000/216000 [==============================] - 6s - loss: 0.6624 - acc: 0.5695 - val_loss: 0.6530 - val_acc: 0.5731\n",
      "Epoch 15/100\n",
      "216000/216000 [==============================] - 6s - loss: 0.6633 - acc: 0.5688 - val_loss: 0.6532 - val_acc: 0.5813\n",
      "Epoch 16/100\n",
      "216000/216000 [==============================] - 5s - loss: 0.6633 - acc: 0.5667 - val_loss: 0.6706 - val_acc: 0.5682\n",
      "Epoch 17/100\n",
      "216000/216000 [==============================] - 6s - loss: 0.6644 - acc: 0.5659 - val_loss: 0.6555 - val_acc: 0.5748\n",
      "Epoch 18/100\n",
      "216000/216000 [==============================] - 5s - loss: 0.6633 - acc: 0.5664 - val_loss: 0.6517 - val_acc: 0.5779\n",
      "Epoch 19/100\n",
      "216000/216000 [==============================] - 5s - loss: 0.6628 - acc: 0.5673 - val_loss: 0.6550 - val_acc: 0.5782\n",
      "Epoch 20/100\n",
      "216000/216000 [==============================] - 6s - loss: 0.6637 - acc: 0.5670 - val_loss: 0.6612 - val_acc: 0.5732\n",
      "Epoch 21/100\n",
      "216000/216000 [==============================] - 6s - loss: 0.6624 - acc: 0.5693 - val_loss: 0.6534 - val_acc: 0.5686\n",
      "Epoch 22/100\n",
      "216000/216000 [==============================] - 6s - loss: 0.6624 - acc: 0.5683 - val_loss: 0.6524 - val_acc: 0.5747\n",
      "Epoch 23/100\n",
      "216000/216000 [==============================] - 6s - loss: 0.6620 - acc: 0.5680 - val_loss: 0.6569 - val_acc: 0.5737\n",
      "Epoch 24/100\n",
      "216000/216000 [==============================] - 6s - loss: 0.6638 - acc: 0.5624 - val_loss: 0.6551 - val_acc: 0.5709\n",
      "Epoch 25/100\n",
      "216000/216000 [==============================] - 5s - loss: 0.6632 - acc: 0.5665 - val_loss: 0.6577 - val_acc: 0.5722\n",
      "Epoch 26/100\n",
      "216000/216000 [==============================] - 5s - loss: 0.6636 - acc: 0.5679 - val_loss: 0.6519 - val_acc: 0.5747\n",
      "Epoch 27/100\n",
      "216000/216000 [==============================] - 5s - loss: 0.6624 - acc: 0.5684 - val_loss: 0.6521 - val_acc: 0.5759\n",
      "Epoch 28/100\n",
      "216000/216000 [==============================] - 6s - loss: 0.6624 - acc: 0.5675 - val_loss: 0.6561 - val_acc: 0.5742\n",
      "Epoch 29/100\n",
      "216000/216000 [==============================] - 6s - loss: 0.6627 - acc: 0.5694 - val_loss: 0.6570 - val_acc: 0.5700\n",
      "Epoch 30/100\n",
      "216000/216000 [==============================] - 6s - loss: 0.6628 - acc: 0.5676 - val_loss: 0.6597 - val_acc: 0.5699\n",
      "Epoch 31/100\n",
      "216000/216000 [==============================] - 5s - loss: 0.6624 - acc: 0.5676 - val_loss: 0.6518 - val_acc: 0.5802\n",
      "Epoch 32/100\n",
      "216000/216000 [==============================] - 6s - loss: 0.6630 - acc: 0.5667 - val_loss: 0.6536 - val_acc: 0.5725\n",
      "Epoch 33/100\n",
      "216000/216000 [==============================] - 6s - loss: 0.6623 - acc: 0.5673 - val_loss: 0.6560 - val_acc: 0.5744\n",
      "Epoch 34/100\n",
      "216000/216000 [==============================] - 6s - loss: 0.6624 - acc: 0.5672 - val_loss: 0.6518 - val_acc: 0.5764\n",
      "Epoch 35/100\n",
      "216000/216000 [==============================] - 6s - loss: 0.6623 - acc: 0.5675 - val_loss: 0.6522 - val_acc: 0.5727\n",
      "Epoch 36/100\n",
      "216000/216000 [==============================] - 6s - loss: 0.6632 - acc: 0.5657 - val_loss: 0.6539 - val_acc: 0.5768\n",
      "Epoch 37/100\n",
      "216000/216000 [==============================] - 6s - loss: 0.6627 - acc: 0.5673 - val_loss: 0.6601 - val_acc: 0.5712\n",
      "Epoch 38/100\n",
      "216000/216000 [==============================] - 6s - loss: 0.6628 - acc: 0.5665 - val_loss: 0.6519 - val_acc: 0.5768\n",
      "Epoch 39/100\n",
      "216000/216000 [==============================] - 6s - loss: 0.6630 - acc: 0.5690 - val_loss: 0.6541 - val_acc: 0.5737\n",
      "Epoch 40/100\n",
      "216000/216000 [==============================] - 6s - loss: 0.6622 - acc: 0.5681 - val_loss: 0.6537 - val_acc: 0.5738\n",
      "Epoch 41/100\n",
      "216000/216000 [==============================] - 6s - loss: 0.6618 - acc: 0.5677 - val_loss: 0.6516 - val_acc: 0.5766\n",
      "Epoch 42/100\n",
      "216000/216000 [==============================] - 6s - loss: 0.6614 - acc: 0.5697 - val_loss: 0.6520 - val_acc: 0.5792\n",
      "Epoch 43/100\n",
      "216000/216000 [==============================] - 6s - loss: 0.6620 - acc: 0.5660 - val_loss: 0.6513 - val_acc: 0.5770\n",
      "Epoch 44/100\n",
      "216000/216000 [==============================] - 6s - loss: 0.6723 - acc: 0.5578 - val_loss: 0.6811 - val_acc: 0.5773\n",
      "Epoch 45/100\n",
      "216000/216000 [==============================] - 6s - loss: 0.6847 - acc: 0.5627 - val_loss: 0.6795 - val_acc: 0.5610\n",
      "Epoch 46/100\n",
      "216000/216000 [==============================] - 6s - loss: 0.6777 - acc: 0.5606 - val_loss: 0.6687 - val_acc: 0.5701\n",
      "Epoch 47/100\n",
      "216000/216000 [==============================] - 6s - loss: 0.6667 - acc: 0.5703 - val_loss: 0.6684 - val_acc: 0.5596\n",
      "Epoch 48/100\n",
      "216000/216000 [==============================] - 6s - loss: 0.6649 - acc: 0.5719 - val_loss: 0.6594 - val_acc: 0.5805\n",
      "Epoch 49/100\n",
      "216000/216000 [==============================] - 6s - loss: 0.6635 - acc: 0.5641 - val_loss: 0.6612 - val_acc: 0.5673\n",
      "Epoch 50/100\n",
      "216000/216000 [==============================] - 6s - loss: 0.6657 - acc: 0.5658 - val_loss: 0.6621 - val_acc: 0.5688\n",
      "Epoch 51/100\n",
      "216000/216000 [==============================] - 6s - loss: 0.6625 - acc: 0.5678 - val_loss: 0.6515 - val_acc: 0.5820\n",
      "Epoch 52/100\n",
      "216000/216000 [==============================] - 6s - loss: 0.6624 - acc: 0.5662 - val_loss: 0.6561 - val_acc: 0.5746\n",
      "Epoch 53/100\n",
      "216000/216000 [==============================] - 6s - loss: 0.6626 - acc: 0.5681 - val_loss: 0.6504 - val_acc: 0.5764\n",
      "Epoch 54/100\n",
      "216000/216000 [==============================] - 6s - loss: 0.6624 - acc: 0.5674 - val_loss: 0.6587 - val_acc: 0.5737\n",
      "Epoch 55/100\n",
      "216000/216000 [==============================] - 6s - loss: 0.6619 - acc: 0.5686 - val_loss: 0.6530 - val_acc: 0.5892\n",
      "Epoch 56/100\n",
      "216000/216000 [==============================] - 6s - loss: 0.6623 - acc: 0.5696 - val_loss: 0.6536 - val_acc: 0.5839\n",
      "Epoch 57/100\n",
      "216000/216000 [==============================] - 6s - loss: 0.6626 - acc: 0.5703 - val_loss: 0.6536 - val_acc: 0.5863\n",
      "Epoch 58/100\n",
      "216000/216000 [==============================] - 6s - loss: 0.6623 - acc: 0.5687 - val_loss: 0.6727 - val_acc: 0.5677\n",
      "Epoch 59/100\n",
      "216000/216000 [==============================] - 6s - loss: 0.6612 - acc: 0.5668 - val_loss: 0.6500 - val_acc: 0.5817\n",
      "Epoch 60/100\n",
      "216000/216000 [==============================] - 6s - loss: 0.6628 - acc: 0.5642 - val_loss: 0.6560 - val_acc: 0.5732\n",
      "Epoch 61/100\n",
      "216000/216000 [==============================] - 6s - loss: 0.6622 - acc: 0.5667 - val_loss: 0.6553 - val_acc: 0.5736\n",
      "Epoch 62/100\n",
      "216000/216000 [==============================] - 6s - loss: 0.6620 - acc: 0.5688 - val_loss: 0.6496 - val_acc: 0.5772\n",
      "Epoch 63/100\n"
     ]
    },
    {
     "name": "stdout",
     "output_type": "stream",
     "text": [
      "216000/216000 [==============================] - 6s - loss: 0.6624 - acc: 0.5654 - val_loss: 0.6536 - val_acc: 0.5828\n",
      "Epoch 64/100\n",
      "216000/216000 [==============================] - 6s - loss: 0.6624 - acc: 0.5664 - val_loss: 0.6586 - val_acc: 0.5725\n",
      "Epoch 65/100\n",
      "216000/216000 [==============================] - 6s - loss: 0.6622 - acc: 0.5661 - val_loss: 0.6499 - val_acc: 0.5658\n",
      "Epoch 66/100\n",
      "216000/216000 [==============================] - 6s - loss: 0.6623 - acc: 0.5675 - val_loss: 0.6572 - val_acc: 0.5746\n",
      "Epoch 67/100\n",
      "216000/216000 [==============================] - 6s - loss: 0.6619 - acc: 0.5658 - val_loss: 0.6490 - val_acc: 0.5783\n",
      "Epoch 68/100\n",
      "216000/216000 [==============================] - 6s - loss: 0.6626 - acc: 0.5646 - val_loss: 0.6512 - val_acc: 0.5701\n",
      "Epoch 69/100\n",
      "216000/216000 [==============================] - 6s - loss: 0.6641 - acc: 0.5671 - val_loss: 0.6502 - val_acc: 0.5802\n",
      "Epoch 70/100\n",
      "216000/216000 [==============================] - 6s - loss: 0.6618 - acc: 0.5661 - val_loss: 0.6521 - val_acc: 0.5777\n",
      "Epoch 71/100\n",
      "216000/216000 [==============================] - 6s - loss: 0.6623 - acc: 0.5666 - val_loss: 0.6544 - val_acc: 0.5710\n",
      "Epoch 72/100\n",
      "216000/216000 [==============================] - 6s - loss: 0.6620 - acc: 0.5677 - val_loss: 0.6562 - val_acc: 0.5717\n",
      "Epoch 73/100\n",
      "216000/216000 [==============================] - 6s - loss: 0.6632 - acc: 0.5646 - val_loss: 0.6561 - val_acc: 0.5720\n",
      "Epoch 74/100\n",
      "216000/216000 [==============================] - 6s - loss: 0.6647 - acc: 0.5662 - val_loss: 0.6576 - val_acc: 0.5715\n",
      "Epoch 75/100\n",
      "216000/216000 [==============================] - 6s - loss: 0.6636 - acc: 0.5670 - val_loss: 0.6569 - val_acc: 0.5697\n",
      "Epoch 76/100\n",
      "216000/216000 [==============================] - 6s - loss: 0.6621 - acc: 0.5681 - val_loss: 0.6585 - val_acc: 0.5693\n",
      "Epoch 77/100\n",
      "216000/216000 [==============================] - 6s - loss: 0.6639 - acc: 0.5684 - val_loss: 0.6621 - val_acc: 0.5831\n",
      "Epoch 78/100\n",
      "216000/216000 [==============================] - 6s - loss: 0.6620 - acc: 0.5708 - val_loss: 0.6510 - val_acc: 0.5750\n",
      "Epoch 79/100\n",
      "216000/216000 [==============================] - 6s - loss: 0.6614 - acc: 0.5675 - val_loss: 0.6518 - val_acc: 0.5628\n",
      "Epoch 80/100\n",
      "216000/216000 [==============================] - 5s - loss: 0.6621 - acc: 0.5662 - val_loss: 0.6524 - val_acc: 0.5739\n",
      "Epoch 81/100\n",
      "216000/216000 [==============================] - 5s - loss: 0.6620 - acc: 0.5670 - val_loss: 0.6491 - val_acc: 0.5744\n",
      "Epoch 82/100\n",
      "216000/216000 [==============================] - 5s - loss: 0.6623 - acc: 0.5670 - val_loss: 0.6560 - val_acc: 0.5751\n",
      "Epoch 83/100\n",
      "216000/216000 [==============================] - 5s - loss: 0.6621 - acc: 0.5661 - val_loss: 0.6541 - val_acc: 0.5716\n",
      "Epoch 84/100\n",
      "216000/216000 [==============================] - 5s - loss: 0.6620 - acc: 0.5665 - val_loss: 0.6610 - val_acc: 0.5695\n",
      "Epoch 85/100\n",
      "216000/216000 [==============================] - 5s - loss: 0.6619 - acc: 0.5695 - val_loss: 0.6501 - val_acc: 0.5799\n",
      "Epoch 86/100\n",
      "216000/216000 [==============================] - 5s - loss: 0.6610 - acc: 0.5678 - val_loss: 0.6503 - val_acc: 0.5714\n",
      "Epoch 87/100\n",
      "216000/216000 [==============================] - 5s - loss: 0.6621 - acc: 0.5683 - val_loss: 0.6667 - val_acc: 0.5658\n",
      "Epoch 88/100\n",
      "216000/216000 [==============================] - 5s - loss: 0.6619 - acc: 0.5656 - val_loss: 0.6503 - val_acc: 0.5748\n",
      "Epoch 89/100\n",
      "216000/216000 [==============================] - 5s - loss: 0.6614 - acc: 0.5661 - val_loss: 0.6561 - val_acc: 0.5707\n",
      "Epoch 90/100\n",
      "216000/216000 [==============================] - 6s - loss: 0.6614 - acc: 0.5683 - val_loss: 0.6490 - val_acc: 0.5765\n",
      "Epoch 91/100\n",
      "216000/216000 [==============================] - 7s - loss: 0.6625 - acc: 0.5666 - val_loss: 0.6563 - val_acc: 0.5732\n",
      "Epoch 92/100\n",
      "216000/216000 [==============================] - 7s - loss: 0.6616 - acc: 0.5672 - val_loss: 0.6515 - val_acc: 0.5714\n",
      "Epoch 93/100\n",
      "216000/216000 [==============================] - 7s - loss: 0.6623 - acc: 0.5668 - val_loss: 0.6521 - val_acc: 0.5735\n",
      "Epoch 94/100\n",
      "216000/216000 [==============================] - 6s - loss: 0.6621 - acc: 0.5667 - val_loss: 0.6613 - val_acc: 0.5692\n",
      "Epoch 95/100\n",
      "216000/216000 [==============================] - 6s - loss: 0.6615 - acc: 0.5665 - val_loss: 0.6493 - val_acc: 0.5751\n",
      "Epoch 96/100\n",
      "216000/216000 [==============================] - 6s - loss: 0.6618 - acc: 0.5661 - val_loss: 0.6494 - val_acc: 0.5750\n",
      "Epoch 97/100\n",
      "216000/216000 [==============================] - 7s - loss: 0.6626 - acc: 0.5661 - val_loss: 0.6546 - val_acc: 0.5718\n",
      "Epoch 98/100\n",
      "216000/216000 [==============================] - 7s - loss: 0.6610 - acc: 0.5694 - val_loss: 0.6514 - val_acc: 0.5759\n",
      "Epoch 99/100\n",
      "216000/216000 [==============================] - 6s - loss: 0.6611 - acc: 0.5717 - val_loss: 0.6505 - val_acc: 0.5448\n",
      "Epoch 100/100\n",
      "216000/216000 [==============================] - 7s - loss: 0.6640 - acc: 0.5700 - val_loss: 0.6534 - val_acc: 0.5735\n"
     ]
    },
    {
     "data": {
      "image/png": "[encoded data removed]",
      "text/plain": [
       "<Figure size 432x288 with 1 Axes>"
      ]
     },
     "metadata": {
      "needs_background": "light"
     },
     "output_type": "display_data"
    },
    {
     "data": {
      "image/png": "[encoded data removed]",
      "text/plain": [
       "<Figure size 432x288 with 1 Axes>"
      ]
     },
     "metadata": {
      "needs_background": "light"
     },
     "output_type": "display_data"
    }
   ],
   "source": [
    "history = estimator.fit(X_train, encoded_Y, validation_split=0.10, epochs=100, batch_size=100, verbose=1)\n",
    "\n",
    "# Plot training & validation accuracy values\n",
    "plt.plot(history.history['acc'])\n",
    "plt.plot(history.history['val_acc'])\n",
    "plt.title('Model accuracy')\n",
    "plt.ylabel('Accuracy')\n",
    "plt.xlabel('Epoch')\n",
    "plt.legend(['Train', 'Test'], loc='upper left')\n",
    "plt.show()\n",
    "\n",
    "# Plot training & validation loss values\n",
    "plt.plot(history.history['loss'])\n",
    "plt.plot(history.history['val_loss'])\n",
    "plt.title('Model loss')\n",
    "plt.ylabel('Loss')\n",
    "plt.xlabel('Epoch')\n",
    "plt.legend(['Train', 'Test'], loc='upper left')\n",
    "plt.show()"
   ]
  },
  {
   "cell_type": "code",
   "execution_count": null,
   "metadata": {},
   "outputs": [],
   "source": []
  },
  {
   "cell_type": "code",
   "execution_count": null,
   "metadata": {},
   "outputs": [],
   "source": []
  },
  {
   "cell_type": "code",
   "execution_count": null,
   "metadata": {},
   "outputs": [],
   "source": []
  },
  {
   "cell_type": "code",
   "execution_count": null,
   "metadata": {},
   "outputs": [],
   "source": []
  },
  {
   "cell_type": "code",
   "execution_count": null,
   "metadata": {},
   "outputs": [],
   "source": []
  },
  {
   "cell_type": "code",
   "execution_count": null,
   "metadata": {},
   "outputs": [],
   "source": []
  }
 ],
 "metadata": {
  "kernelspec": {
   "display_name": "Python 3",
   "language": "python",
   "name": "python3"
  },
  "language_info": {
   "codemirror_mode": {
    "name": "ipython",
    "version": 3
   },
   "file_extension": ".py",
   "mimetype": "text/x-python",
   "name": "python",
   "nbconvert_exporter": "python",
   "pygments_lexer": "ipython3",
   "version": "3.6.8"
  }
 },
 "nbformat": 4,
 "nbformat_minor": 2
}
