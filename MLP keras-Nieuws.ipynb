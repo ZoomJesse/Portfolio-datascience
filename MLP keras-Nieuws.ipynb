{
 "cells": [
  {
   "cell_type": "code",
   "execution_count": 1,
   "metadata": {},
   "outputs": [
    {
     "name": "stderr",
     "output_type": "stream",
     "text": [
      "Using TensorFlow backend.\n",
      "/opt/jupyterhub/anaconda/lib/python3.6/importlib/_bootstrap.py:219: RuntimeWarning: compiletime version 3.5 of module 'tensorflow.python.framework.fast_tensor_util' does not match runtime version 3.6\n",
      "  return f(*args, **kwds)\n"
     ]
    }
   ],
   "source": [
    "import os, io, wave, csv, json, re, glob\n",
    "import librosa\n",
    "import numpy as np\n",
    "import pandas as pd\n",
    "import matplotlib.pyplot as plt\n",
    "import scipy.io.wavfile as wav\n",
    "from scipy.fftpack import dct\n",
    "import matplotlib.cm as cm\n",
    "import matplotlib as mpl\n",
    "import collections\n",
    "import seaborn as sns\n",
    "from keras import optimizers\n",
    "\n",
    "from sklearn.externals import joblib\n",
    "\n",
    "from sklearn.neural_network import MLPClassifier\n",
    "from sklearn.model_selection import train_test_split\n",
    "\n",
    "from sklearn.metrics import classification_report, confusion_matrix\n",
    "from keras.layers import Dropout"
   ]
  },
  {
   "cell_type": "code",
   "execution_count": 2,
   "metadata": {},
   "outputs": [],
   "source": [
    "import numpy\n",
    "import os\n",
    "import pandas\n",
    "from keras.models import Sequential\n",
    "from keras.layers import Dense\n",
    "from keras.wrappers.scikit_learn import KerasClassifier\n",
    "from keras.utils import np_utils\n",
    "from sklearn.model_selection import cross_val_score\n",
    "from sklearn.model_selection import KFold\n",
    "from sklearn.preprocessing import LabelEncoder\n",
    "from sklearn.pipeline import Pipeline\n",
    "import tensorflow as tf\n"
   ]
  },
  {
   "cell_type": "code",
   "execution_count": 3,
   "metadata": {},
   "outputs": [],
   "source": [
    "os.environ[\"CUDA_VISIBLE_DEVICES\"]=\"1\"\n",
    "\n",
    "config = tf.ConfigProto(device_count = {'GPU': 0})\n",
    "config.gpu_options.per_process_gpu_memory_fraction = 0.5\n",
    "config.gpu_options.allow_growth = True"
   ]
  },
  {
   "cell_type": "code",
   "execution_count": 4,
   "metadata": {},
   "outputs": [],
   "source": [
    "def generateBalancedData(X_more, y_more, size):\n",
    "    \"\"\"\n",
    "    X_more = de input data\n",
    "    y_more = de label data\n",
    "    size = de maximum grootte die je wenst bijv. 300000 data totaal\n",
    "    \"\"\"\n",
    "    \n",
    "    pos_list = [i for i, x in enumerate(y_more) if x == 1][:int(size/2)]\n",
    "    neg_list = [i for i, x in enumerate(y_more) if x == 0][:int(size/2)]\n",
    "\n",
    "    balancedDataX = np.concatenate(([X_more[pos] for pos in pos_list], [X_more[neg] for neg in neg_list]), axis=0)\n",
    "    \n",
    "    balancedDataY = np.concatenate(([y_more[pos] for pos in pos_list], [y_more[neg] for neg in neg_list]), axis=0)\n",
    "        \n",
    "    return [balancedDataX, balancedDataY]"
   ]
  },
  {
   "cell_type": "code",
   "execution_count": 5,
   "metadata": {},
   "outputs": [],
   "source": [
    "csv_file_name = 'datasetboundary_distance_4ms_news.csv'"
   ]
  },
  {
   "cell_type": "code",
   "execution_count": 6,
   "metadata": {},
   "outputs": [],
   "source": [
    "# Map waar het csv bestand zit\n",
    "data_corpus_path = '/datb/aphasia/languagedata/corpus/dataset/' + csv_file_name\n",
    "\n",
    "\n",
    "# Inlezen CSV bestand\n",
    "df_corpus_data = pd.read_csv(data_corpus_path, sep=',', skiprows=1,\n",
    "                             names=['region', 'label', 'sample_rate', 'begin', 'end', 'audiopath'])\n",
    "\n",
    "\n",
    "# Voor het weghalen van 'nan' rows in de column \"region\"\n",
    "df_corpus = df_corpus_data.dropna(subset=['region'])"
   ]
  },
  {
   "cell_type": "code",
   "execution_count": 7,
   "metadata": {},
   "outputs": [
    {
     "data": {
      "image/png": "[encoded data removed]",
      "text/plain": [
       "<Figure size 432x288 with 1 Axes>"
      ]
     },
     "metadata": {
      "needs_background": "light"
     },
     "output_type": "display_data"
    }
   ],
   "source": [
    "fig , ax = plt.subplots(figsize=(6,4))\n",
    "sns.countplot(x='label', data=df_corpus)\n",
    "plt.title(\"Verhouding tussen de labels 0 en 1\")\n",
    "plt.show()"
   ]
  },
  {
   "cell_type": "code",
   "execution_count": 8,
   "metadata": {},
   "outputs": [
    {
     "name": "stdout",
     "output_type": "stream",
     "text": [
      "Before generating more 1 labels data\n",
      "X:269709\n",
      "y:269709\n"
     ]
    }
   ],
   "source": [
    "# Get input data\n",
    "X = []\n",
    "\n",
    "for x in df_corpus.region:\n",
    "    trans = [float(y) for y in x.split('|')]\n",
    "    X.append(trans)\n",
    "\n",
    "# Get labels\n",
    "y = [int(x) for x in df_corpus.label]\n",
    "\n",
    "print('Before generating more 1 labels data')\n",
    "print('X:{}'.format(len(X)))\n",
    "print('y:{}'.format(len(y)))"
   ]
  },
  {
   "cell_type": "code",
   "execution_count": 9,
   "metadata": {},
   "outputs": [],
   "source": [
    "dataSize = 70000"
   ]
  },
  {
   "cell_type": "code",
   "execution_count": 10,
   "metadata": {},
   "outputs": [
    {
     "name": "stdout",
     "output_type": "stream",
     "text": [
      "After generating more 1 labels data\n",
      "X:59519\n",
      "y:59519\n"
     ]
    }
   ],
   "source": [
    "X_more, y_more = generateBalancedData(X, y, dataSize)\n",
    "\n",
    "print('After generating more 1 labels data')\n",
    "print('X:{}'.format(len(X_more)))\n",
    "print('y:{}'.format(len(y_more)))"
   ]
  },
  {
   "cell_type": "code",
   "execution_count": 11,
   "metadata": {},
   "outputs": [
    {
     "data": {
      "image/png": "[encoded data removed]",
      "text/plain": [
       "<Figure size 432x288 with 1 Axes>"
      ]
     },
     "metadata": {
      "needs_background": "light"
     },
     "output_type": "display_data"
    }
   ],
   "source": [
    "fig , ax = plt.subplots(figsize=(6,4))\n",
    "sns.countplot(x='label', data=pd.DataFrame({'label':y_more}))\n",
    "plt.title(\"After: verhouding tussen de labels 0 en 1\")\n",
    "plt.show()"
   ]
  },
  {
   "cell_type": "code",
   "execution_count": 12,
   "metadata": {},
   "outputs": [],
   "source": [
    "test_size = 0.20\n",
    "random_state = 42"
   ]
  },
  {
   "cell_type": "code",
   "execution_count": 13,
   "metadata": {},
   "outputs": [],
   "source": [
    "X_train, X_test, y_train, y_test = train_test_split(X_more, y_more, test_size=test_size, \n",
    "                                                    random_state=random_state, stratify=y_more)"
   ]
  },
  {
   "cell_type": "code",
   "execution_count": 14,
   "metadata": {},
   "outputs": [],
   "source": [
    "\n",
    "import numpy\n",
    "import pandas\n",
    "from keras.models import Sequential\n",
    "from keras.layers import Dense\n",
    "from keras.wrappers.scikit_learn import KerasClassifier\n",
    "from sklearn.model_selection import cross_val_score\n",
    "from sklearn.preprocessing import LabelEncoder\n",
    "from sklearn.model_selection import StratifiedKFold\n",
    "from sklearn.preprocessing import StandardScaler\n",
    "from sklearn.pipeline import Pipeline\n",
    "from keras.utils import plot_model\n",
    "from IPython.display import SVG\n",
    "\n"
   ]
  },
  {
   "cell_type": "code",
   "execution_count": 15,
   "metadata": {},
   "outputs": [],
   "source": [
    "# encode class values as integers\n",
    "encoder = LabelEncoder()\n",
    "encoder.fit(y_train)\n",
    "encoded_Y = encoder.transform(y_train)"
   ]
  },
  {
   "cell_type": "code",
   "execution_count": 16,
   "metadata": {},
   "outputs": [],
   "source": [
    "# define baseline model\n",
    "def  create_baseline():\n",
    "    # create model\n",
    "    model = Sequential()\n",
    "    model.add(Dropout(0.4, input_shape=(52,)))\n",
    "    model.add(Dense(100, activation='relu'))\n",
    "    model.add(Dense(100, activation='relu'))\n",
    "    model.add(Dense(100, activation='relu'))\n",
    "    model.add(Dense(2, activation='softmax'))\n",
    "    # Compile model\n",
    "    adam = optimizers.Adam(lr=0.003)\n",
    "    model.compile(loss='categorical_crossentropy', optimizer= adam, metrics=['accuracy'])\n",
    "    \n",
    "    return model"
   ]
  },
  {
   "cell_type": "code",
   "execution_count": 17,
   "metadata": {},
   "outputs": [],
   "source": [
    "estimator = KerasClassifier(build_fn=create_baseline, epochs=100, batch_size=1000, verbose=1)\n",
    "kfold = StratifiedKFold(n_splits=2, shuffle=True, random_state=42)\n",
    "# results = cross_val_score(estimator, X_train, encoded_Y, cv=kfold)\n",
    "# print(\"Results: %.2f%% (%.2f%%)\" % (results.mean()*100, results.std()*100))"
   ]
  },
  {
   "cell_type": "code",
   "execution_count": 18,
   "metadata": {},
   "outputs": [
    {
     "name": "stdout",
     "output_type": "stream",
     "text": [
      "Train on 38092 samples, validate on 9523 samples\n",
      "Epoch 1/100\n",
      "38092/38092 [==============================] - 4s - loss: 0.6878 - acc: 0.5748 - val_loss: 0.6749 - val_acc: 0.5928\n",
      "Epoch 2/100\n",
      "38092/38092 [==============================] - 1s - loss: 0.6780 - acc: 0.5850 - val_loss: 0.6752 - val_acc: 0.5918\n",
      "Epoch 3/100\n",
      "38092/38092 [==============================] - 1s - loss: 0.6763 - acc: 0.5862 - val_loss: 0.6743 - val_acc: 0.5930\n",
      "Epoch 4/100\n",
      "38092/38092 [==============================] - 1s - loss: 0.6753 - acc: 0.5865 - val_loss: 0.6731 - val_acc: 0.5951\n",
      "Epoch 5/100\n",
      "38092/38092 [==============================] - 1s - loss: 0.6741 - acc: 0.5897 - val_loss: 0.6721 - val_acc: 0.5939\n",
      "Epoch 6/100\n",
      "38092/38092 [==============================] - 1s - loss: 0.6730 - acc: 0.5899 - val_loss: 0.6705 - val_acc: 0.5947\n",
      "Epoch 7/100\n",
      "38092/38092 [==============================] - 1s - loss: 0.6720 - acc: 0.5930 - val_loss: 0.6703 - val_acc: 0.5979\n",
      "Epoch 8/100\n",
      "38092/38092 [==============================] - 1s - loss: 0.6716 - acc: 0.5931 - val_loss: 0.6678 - val_acc: 0.5976\n",
      "Epoch 9/100\n",
      "38092/38092 [==============================] - 1s - loss: 0.6717 - acc: 0.5941 - val_loss: 0.6678 - val_acc: 0.5999\n",
      "Epoch 10/100\n",
      "38092/38092 [==============================] - 1s - loss: 0.6712 - acc: 0.5951 - val_loss: 0.6667 - val_acc: 0.6026\n",
      "Epoch 11/100\n",
      "38092/38092 [==============================] - 1s - loss: 0.6695 - acc: 0.5990 - val_loss: 0.6669 - val_acc: 0.6040\n",
      "Epoch 12/100\n",
      "38092/38092 [==============================] - 1s - loss: 0.6694 - acc: 0.5982 - val_loss: 0.6675 - val_acc: 0.6013\n",
      "Epoch 13/100\n",
      "38092/38092 [==============================] - 1s - loss: 0.6687 - acc: 0.5995 - val_loss: 0.6663 - val_acc: 0.6038\n",
      "Epoch 14/100\n",
      "38092/38092 [==============================] - 1s - loss: 0.6686 - acc: 0.6005 - val_loss: 0.6659 - val_acc: 0.6051\n",
      "Epoch 15/100\n",
      "38092/38092 [==============================] - 1s - loss: 0.6676 - acc: 0.5978 - val_loss: 0.6637 - val_acc: 0.6087\n",
      "Epoch 16/100\n",
      "38092/38092 [==============================] - 1s - loss: 0.6669 - acc: 0.5999 - val_loss: 0.6657 - val_acc: 0.6054\n",
      "Epoch 17/100\n",
      "38092/38092 [==============================] - 1s - loss: 0.6671 - acc: 0.6011 - val_loss: 0.6632 - val_acc: 0.6103\n",
      "Epoch 18/100\n",
      "38092/38092 [==============================] - 1s - loss: 0.6660 - acc: 0.6019 - val_loss: 0.6609 - val_acc: 0.6115\n",
      "Epoch 19/100\n",
      "38092/38092 [==============================] - 1s - loss: 0.6657 - acc: 0.6015 - val_loss: 0.6631 - val_acc: 0.6145\n",
      "Epoch 20/100\n",
      "38092/38092 [==============================] - 1s - loss: 0.6648 - acc: 0.6050 - val_loss: 0.6612 - val_acc: 0.6144\n",
      "Epoch 21/100\n",
      "38092/38092 [==============================] - 1s - loss: 0.6658 - acc: 0.6025 - val_loss: 0.6619 - val_acc: 0.6104\n",
      "Epoch 22/100\n",
      "38092/38092 [==============================] - 1s - loss: 0.6642 - acc: 0.6052 - val_loss: 0.6627 - val_acc: 0.6097\n",
      "Epoch 23/100\n",
      "38092/38092 [==============================] - 1s - loss: 0.6636 - acc: 0.6049 - val_loss: 0.6613 - val_acc: 0.6131\n",
      "Epoch 24/100\n",
      "38092/38092 [==============================] - 1s - loss: 0.6640 - acc: 0.6045 - val_loss: 0.6583 - val_acc: 0.6148\n",
      "Epoch 25/100\n",
      "38092/38092 [==============================] - 1s - loss: 0.6636 - acc: 0.6034 - val_loss: 0.6595 - val_acc: 0.6144\n",
      "Epoch 26/100\n",
      "38092/38092 [==============================] - 1s - loss: 0.6632 - acc: 0.6056 - val_loss: 0.6591 - val_acc: 0.6156\n",
      "Epoch 27/100\n",
      "38092/38092 [==============================] - 1s - loss: 0.6620 - acc: 0.6076 - val_loss: 0.6605 - val_acc: 0.6155\n",
      "Epoch 28/100\n",
      "38092/38092 [==============================] - 1s - loss: 0.6605 - acc: 0.6059 - val_loss: 0.6599 - val_acc: 0.6144\n",
      "Epoch 29/100\n",
      "38092/38092 [==============================] - 1s - loss: 0.6628 - acc: 0.6060 - val_loss: 0.6599 - val_acc: 0.6135\n",
      "Epoch 30/100\n",
      "38092/38092 [==============================] - 1s - loss: 0.6615 - acc: 0.6066 - val_loss: 0.6629 - val_acc: 0.6163\n",
      "Epoch 31/100\n",
      "38092/38092 [==============================] - 1s - loss: 0.6613 - acc: 0.6089 - val_loss: 0.6590 - val_acc: 0.6165\n",
      "Epoch 32/100\n",
      "38092/38092 [==============================] - 1s - loss: 0.6601 - acc: 0.6088 - val_loss: 0.6583 - val_acc: 0.6134\n",
      "Epoch 33/100\n",
      "38092/38092 [==============================] - 1s - loss: 0.6601 - acc: 0.6068 - val_loss: 0.6593 - val_acc: 0.6165\n",
      "Epoch 34/100\n",
      "38092/38092 [==============================] - 1s - loss: 0.6612 - acc: 0.6077 - val_loss: 0.6605 - val_acc: 0.6146\n",
      "Epoch 35/100\n",
      "38092/38092 [==============================] - 1s - loss: 0.6595 - acc: 0.6071 - val_loss: 0.6604 - val_acc: 0.6138\n",
      "Epoch 36/100\n",
      "38092/38092 [==============================] - 1s - loss: 0.6601 - acc: 0.6065 - val_loss: 0.6604 - val_acc: 0.6124\n",
      "Epoch 37/100\n",
      "38092/38092 [==============================] - 1s - loss: 0.6593 - acc: 0.6100 - val_loss: 0.6573 - val_acc: 0.6201\n",
      "Epoch 38/100\n",
      "38092/38092 [==============================] - 1s - loss: 0.6601 - acc: 0.6061 - val_loss: 0.6608 - val_acc: 0.6118\n",
      "Epoch 39/100\n",
      "38092/38092 [==============================] - 1s - loss: 0.6599 - acc: 0.6090 - val_loss: 0.6572 - val_acc: 0.6178\n",
      "Epoch 40/100\n",
      "38092/38092 [==============================] - 1s - loss: 0.6589 - acc: 0.6086 - val_loss: 0.6582 - val_acc: 0.6152\n",
      "Epoch 41/100\n",
      "38092/38092 [==============================] - 1s - loss: 0.6605 - acc: 0.6068 - val_loss: 0.6592 - val_acc: 0.6144\n",
      "Epoch 42/100\n",
      "38092/38092 [==============================] - 1s - loss: 0.6577 - acc: 0.6111 - val_loss: 0.6594 - val_acc: 0.6158\n",
      "Epoch 43/100\n",
      "38092/38092 [==============================] - 1s - loss: 0.6581 - acc: 0.6103 - val_loss: 0.6607 - val_acc: 0.6131\n",
      "Epoch 44/100\n",
      "38092/38092 [==============================] - 1s - loss: 0.6581 - acc: 0.6107 - val_loss: 0.6592 - val_acc: 0.6136\n",
      "Epoch 45/100\n",
      "38092/38092 [==============================] - 1s - loss: 0.6583 - acc: 0.6093 - val_loss: 0.6605 - val_acc: 0.6145\n",
      "Epoch 46/100\n",
      "38092/38092 [==============================] - 1s - loss: 0.6592 - acc: 0.6074 - val_loss: 0.6590 - val_acc: 0.6159\n",
      "Epoch 47/100\n",
      "38092/38092 [==============================] - 1s - loss: 0.6565 - acc: 0.6112 - val_loss: 0.6583 - val_acc: 0.6131\n",
      "Epoch 48/100\n",
      "38092/38092 [==============================] - 1s - loss: 0.6587 - acc: 0.6094 - val_loss: 0.6614 - val_acc: 0.6148\n",
      "Epoch 49/100\n",
      "38092/38092 [==============================] - 1s - loss: 0.6580 - acc: 0.6112 - val_loss: 0.6597 - val_acc: 0.6154\n",
      "Epoch 50/100\n",
      "38092/38092 [==============================] - 1s - loss: 0.6568 - acc: 0.6110 - val_loss: 0.6615 - val_acc: 0.6154\n",
      "Epoch 51/100\n",
      "38092/38092 [==============================] - 1s - loss: 0.6569 - acc: 0.6100 - val_loss: 0.6648 - val_acc: 0.6140\n",
      "Epoch 52/100\n",
      "38092/38092 [==============================] - 1s - loss: 0.6569 - acc: 0.6108 - val_loss: 0.6617 - val_acc: 0.6160\n",
      "Epoch 53/100\n",
      "38092/38092 [==============================] - 1s - loss: 0.6580 - acc: 0.6090 - val_loss: 0.6600 - val_acc: 0.6146\n",
      "Epoch 54/100\n",
      "38092/38092 [==============================] - 1s - loss: 0.6569 - acc: 0.6099 - val_loss: 0.6607 - val_acc: 0.6125\n",
      "Epoch 55/100\n",
      "38092/38092 [==============================] - 1s - loss: 0.6584 - acc: 0.6085 - val_loss: 0.6617 - val_acc: 0.6143\n",
      "Epoch 56/100\n",
      "38092/38092 [==============================] - 1s - loss: 0.6566 - acc: 0.6144 - val_loss: 0.6637 - val_acc: 0.6165\n",
      "Epoch 57/100\n",
      "38092/38092 [==============================] - 1s - loss: 0.6552 - acc: 0.6100 - val_loss: 0.6614 - val_acc: 0.6152\n",
      "Epoch 58/100\n",
      "38092/38092 [==============================] - 1s - loss: 0.6566 - acc: 0.6092 - val_loss: 0.6580 - val_acc: 0.6161\n",
      "Epoch 59/100\n",
      "38092/38092 [==============================] - 1s - loss: 0.6566 - acc: 0.6095 - val_loss: 0.6607 - val_acc: 0.6162\n",
      "Epoch 60/100\n",
      "38092/38092 [==============================] - 1s - loss: 0.6547 - acc: 0.6123 - val_loss: 0.6595 - val_acc: 0.6172\n",
      "Epoch 61/100\n",
      "38092/38092 [==============================] - 1s - loss: 0.6567 - acc: 0.6110 - val_loss: 0.6593 - val_acc: 0.6169\n",
      "Epoch 62/100\n",
      "38092/38092 [==============================] - 1s - loss: 0.6552 - acc: 0.6125 - val_loss: 0.6593 - val_acc: 0.6146\n",
      "Epoch 63/100\n",
      "38092/38092 [==============================] - 0s - loss: 0.6547 - acc: 0.6146 - val_loss: 0.6592 - val_acc: 0.6162\n",
      "Epoch 64/100\n"
     ]
    },
    {
     "name": "stdout",
     "output_type": "stream",
     "text": [
      "38092/38092 [==============================] - 1s - loss: 0.6535 - acc: 0.6139 - val_loss: 0.6662 - val_acc: 0.6165\n",
      "Epoch 65/100\n",
      "38092/38092 [==============================] - 1s - loss: 0.6546 - acc: 0.6147 - val_loss: 0.6614 - val_acc: 0.6143\n",
      "Epoch 66/100\n",
      "38092/38092 [==============================] - 1s - loss: 0.6544 - acc: 0.6118 - val_loss: 0.6652 - val_acc: 0.6134\n",
      "Epoch 67/100\n",
      "38092/38092 [==============================] - 1s - loss: 0.6543 - acc: 0.6153 - val_loss: 0.6621 - val_acc: 0.6170\n",
      "Epoch 68/100\n",
      "38092/38092 [==============================] - 1s - loss: 0.6526 - acc: 0.6147 - val_loss: 0.6689 - val_acc: 0.6154\n",
      "Epoch 69/100\n",
      "38092/38092 [==============================] - 0s - loss: 0.6555 - acc: 0.6096 - val_loss: 0.6638 - val_acc: 0.6141\n",
      "Epoch 70/100\n",
      "38092/38092 [==============================] - 0s - loss: 0.6546 - acc: 0.6120 - val_loss: 0.6604 - val_acc: 0.6127\n",
      "Epoch 71/100\n",
      "38092/38092 [==============================] - 1s - loss: 0.6550 - acc: 0.6142 - val_loss: 0.6631 - val_acc: 0.6163\n",
      "Epoch 72/100\n",
      "38092/38092 [==============================] - 1s - loss: 0.6546 - acc: 0.6134 - val_loss: 0.6620 - val_acc: 0.6155\n",
      "Epoch 73/100\n",
      "38092/38092 [==============================] - 1s - loss: 0.6527 - acc: 0.6151 - val_loss: 0.6611 - val_acc: 0.6146\n",
      "Epoch 74/100\n",
      "38092/38092 [==============================] - 1s - loss: 0.6537 - acc: 0.6116 - val_loss: 0.6639 - val_acc: 0.6158\n",
      "Epoch 75/100\n",
      "38092/38092 [==============================] - 1s - loss: 0.6553 - acc: 0.6139 - val_loss: 0.6632 - val_acc: 0.6182\n",
      "Epoch 76/100\n",
      "38092/38092 [==============================] - 1s - loss: 0.6543 - acc: 0.6138 - val_loss: 0.6581 - val_acc: 0.6167\n",
      "Epoch 77/100\n",
      "38092/38092 [==============================] - 1s - loss: 0.6528 - acc: 0.6130 - val_loss: 0.6619 - val_acc: 0.6166\n",
      "Epoch 78/100\n",
      "38092/38092 [==============================] - 1s - loss: 0.6536 - acc: 0.6146 - val_loss: 0.6617 - val_acc: 0.6159\n",
      "Epoch 79/100\n",
      "38092/38092 [==============================] - 1s - loss: 0.6553 - acc: 0.6117 - val_loss: 0.6623 - val_acc: 0.6144\n",
      "Epoch 80/100\n",
      "38092/38092 [==============================] - 1s - loss: 0.6538 - acc: 0.6152 - val_loss: 0.6593 - val_acc: 0.6161\n",
      "Epoch 81/100\n",
      "38092/38092 [==============================] - 1s - loss: 0.6537 - acc: 0.6144 - val_loss: 0.6631 - val_acc: 0.6120\n",
      "Epoch 82/100\n",
      "38092/38092 [==============================] - 1s - loss: 0.6523 - acc: 0.6155 - val_loss: 0.6663 - val_acc: 0.6141\n",
      "Epoch 83/100\n",
      "38092/38092 [==============================] - 1s - loss: 0.6518 - acc: 0.6161 - val_loss: 0.6689 - val_acc: 0.6134\n",
      "Epoch 84/100\n",
      "38092/38092 [==============================] - 1s - loss: 0.6517 - acc: 0.6162 - val_loss: 0.6586 - val_acc: 0.6173\n",
      "Epoch 85/100\n",
      "38092/38092 [==============================] - 1s - loss: 0.6523 - acc: 0.6170 - val_loss: 0.6681 - val_acc: 0.6138\n",
      "Epoch 86/100\n",
      "38092/38092 [==============================] - 1s - loss: 0.6537 - acc: 0.6151 - val_loss: 0.6624 - val_acc: 0.6155\n",
      "Epoch 87/100\n",
      "38092/38092 [==============================] - 1s - loss: 0.6540 - acc: 0.6147 - val_loss: 0.6610 - val_acc: 0.6154\n",
      "Epoch 88/100\n",
      "38092/38092 [==============================] - 1s - loss: 0.6530 - acc: 0.6145 - val_loss: 0.6602 - val_acc: 0.6160\n",
      "Epoch 89/100\n",
      "38092/38092 [==============================] - 1s - loss: 0.6520 - acc: 0.6161 - val_loss: 0.6617 - val_acc: 0.6108\n",
      "Epoch 90/100\n",
      "38092/38092 [==============================] - 1s - loss: 0.6536 - acc: 0.6132 - val_loss: 0.6643 - val_acc: 0.6161\n",
      "Epoch 91/100\n",
      "38092/38092 [==============================] - 1s - loss: 0.6508 - acc: 0.6158 - val_loss: 0.6623 - val_acc: 0.6150\n",
      "Epoch 92/100\n",
      "38092/38092 [==============================] - 1s - loss: 0.6516 - acc: 0.6143 - val_loss: 0.6634 - val_acc: 0.6141\n",
      "Epoch 93/100\n",
      "38092/38092 [==============================] - 0s - loss: 0.6523 - acc: 0.6144 - val_loss: 0.6671 - val_acc: 0.6157\n",
      "Epoch 94/100\n",
      "38092/38092 [==============================] - 1s - loss: 0.6502 - acc: 0.6146 - val_loss: 0.6651 - val_acc: 0.6117\n",
      "Epoch 95/100\n",
      "38092/38092 [==============================] - 1s - loss: 0.6519 - acc: 0.6164 - val_loss: 0.6648 - val_acc: 0.6147\n",
      "Epoch 96/100\n",
      "38092/38092 [==============================] - 1s - loss: 0.6526 - acc: 0.6156 - val_loss: 0.6638 - val_acc: 0.6141\n",
      "Epoch 97/100\n",
      "38092/38092 [==============================] - 1s - loss: 0.6508 - acc: 0.6183 - val_loss: 0.6628 - val_acc: 0.6129\n",
      "Epoch 98/100\n",
      "38092/38092 [==============================] - 1s - loss: 0.6499 - acc: 0.6169 - val_loss: 0.6597 - val_acc: 0.6168\n",
      "Epoch 99/100\n",
      "38092/38092 [==============================] - 1s - loss: 0.6519 - acc: 0.6179 - val_loss: 0.6599 - val_acc: 0.6170\n",
      "Epoch 100/100\n",
      "38092/38092 [==============================] - 1s - loss: 0.6506 - acc: 0.6184 - val_loss: 0.6597 - val_acc: 0.6152\n"
     ]
    },
    {
     "data": {
      "image/png": "[encoded data removed]",
      "text/plain": [
       "<Figure size 432x288 with 1 Axes>"
      ]
     },
     "metadata": {
      "needs_background": "light"
     },
     "output_type": "display_data"
    },
    {
     "data": {
      "image/png": "[encoded data removed]",
      "text/plain": [
       "<Figure size 432x288 with 1 Axes>"
      ]
     },
     "metadata": {
      "needs_background": "light"
     },
     "output_type": "display_data"
    }
   ],
   "source": [
    "history = estimator.fit(X_train, encoded_Y, validation_split=0.20, epochs=100, batch_size=128, verbose=1)\n",
    "\n",
    "# Plot training & validation accuracy values\n",
    "plt.plot(history.history['acc'])\n",
    "plt.plot(history.history['val_acc'])\n",
    "plt.title('Model accuracy')\n",
    "plt.ylabel('Accuracy')\n",
    "plt.xlabel('Epoch')\n",
    "plt.legend(['Train', 'Test'], loc='upper left')\n",
    "plt.show()\n",
    "\n",
    "# Plot training & validation loss values\n",
    "plt.plot(history.history['loss'])\n",
    "plt.plot(history.history['val_loss'])\n",
    "plt.title('Model loss')\n",
    "plt.ylabel('Loss')\n",
    "plt.xlabel('Epoch')\n",
    "plt.legend(['Train', 'Test'], loc='upper left')\n",
    "plt.show()"
   ]
  },
  {
   "cell_type": "code",
   "execution_count": null,
   "metadata": {},
   "outputs": [],
   "source": []
  },
  {
   "cell_type": "code",
   "execution_count": null,
   "metadata": {},
   "outputs": [],
   "source": []
  },
  {
   "cell_type": "code",
   "execution_count": null,
   "metadata": {},
   "outputs": [],
   "source": []
  },
  {
   "cell_type": "code",
   "execution_count": null,
   "metadata": {},
   "outputs": [],
   "source": []
  },
  {
   "cell_type": "code",
   "execution_count": null,
   "metadata": {},
   "outputs": [],
   "source": []
  },
  {
   "cell_type": "code",
   "execution_count": null,
   "metadata": {},
   "outputs": [],
   "source": []
  }
 ],
 "metadata": {
  "kernelspec": {
   "display_name": "Python 3",
   "language": "python",
   "name": "python3"
  },
  "language_info": {
   "codemirror_mode": {
    "name": "ipython",
    "version": 3
   },
   "file_extension": ".py",
   "mimetype": "text/x-python",
   "name": "python",
   "nbconvert_exporter": "python",
   "pygments_lexer": "ipython3",
   "version": "3.6.8"
  }
 },
 "nbformat": 4,
 "nbformat_minor": 2
}
