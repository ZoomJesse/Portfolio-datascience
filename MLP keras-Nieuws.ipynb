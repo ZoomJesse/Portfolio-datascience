{
 "cells": [
  {
   "cell_type": "code",
   "execution_count": 99,
   "metadata": {},
   "outputs": [],
   "source": [
    "import os, io, wave, csv, json, re, glob\n",
    "import librosa\n",
    "import numpy as np\n",
    "import pandas as pd\n",
    "import matplotlib.pyplot as plt\n",
    "import scipy.io.wavfile as wav\n",
    "from scipy.fftpack import dct\n",
    "import matplotlib.cm as cm\n",
    "import matplotlib as mpl\n",
    "import collections\n",
    "import seaborn as sns\n",
    "from keras import optimizers\n",
    "\n",
    "from sklearn.externals import joblib\n",
    "\n",
    "from sklearn.neural_network import MLPClassifier\n",
    "from sklearn.model_selection import train_test_split\n",
    "\n",
    "from sklearn.metrics import classification_report, confusion_matrix\n",
    "from keras.layers import Dropout"
   ]
  },
  {
   "cell_type": "code",
   "execution_count": 100,
   "metadata": {},
   "outputs": [],
   "source": [
    "import numpy\n",
    "import os\n",
    "import pandas\n",
    "from keras.models import Sequential\n",
    "from keras.layers import Dense\n",
    "from keras.wrappers.scikit_learn import KerasClassifier\n",
    "from keras.utils import np_utils\n",
    "from sklearn.model_selection import cross_val_score\n",
    "from sklearn.model_selection import KFold\n",
    "from sklearn.preprocessing import LabelEncoder\n",
    "from sklearn.pipeline import Pipeline\n",
    "import tensorflow as tf\n"
   ]
  },
  {
   "cell_type": "code",
   "execution_count": 101,
   "metadata": {},
   "outputs": [],
   "source": [
    "os.environ[\"CUDA_VISIBLE_DEVICES\"]=\"1\"\n",
    "\n",
    "config = tf.ConfigProto(device_count = {'GPU': 0})\n",
    "config.gpu_options.per_process_gpu_memory_fraction = 0.5\n",
    "config.gpu_options.allow_growth = True"
   ]
  },
  {
   "cell_type": "code",
   "execution_count": 102,
   "metadata": {},
   "outputs": [],
   "source": [
    "def generateBalancedData(X_more, y_more, size):\n",
    "    \"\"\"\n",
    "    X_more = de input data\n",
    "    y_more = de label data\n",
    "    size = de maximum grootte die je wenst bijv. 300000 data totaal\n",
    "    \"\"\"\n",
    "    \n",
    "    pos_list = [i for i, x in enumerate(y_more) if x == 1][:int(size/2)]\n",
    "    neg_list = [i for i, x in enumerate(y_more) if x == 0][:int(size/2)]\n",
    "\n",
    "    balancedDataX = np.concatenate(([X_more[pos] for pos in pos_list], [X_more[neg] for neg in neg_list]), axis=0)\n",
    "    \n",
    "    balancedDataY = np.concatenate(([y_more[pos] for pos in pos_list], [y_more[neg] for neg in neg_list]), axis=0)\n",
    "        \n",
    "    return [balancedDataX, balancedDataY]"
   ]
  },
  {
   "cell_type": "code",
   "execution_count": 126,
   "metadata": {},
   "outputs": [],
   "source": [
    "csv_file_name = 'datasetboundary_distance_4ms_news.csv'"
   ]
  },
  {
   "cell_type": "code",
   "execution_count": 127,
   "metadata": {},
   "outputs": [],
   "source": [
    "# Map waar het csv bestand zit\n",
    "data_corpus_path = '/datb/aphasia/languagedata/corpus/dataset/' + csv_file_name\n",
    "\n",
    "\n",
    "# Inlezen CSV bestand\n",
    "df_corpus_data = pd.read_csv(data_corpus_path, sep=',', skiprows=1,\n",
    "                             names=['region', 'label', 'sample_rate', 'begin', 'end', 'audiopath'])\n",
    "\n",
    "\n",
    "# Voor het weghalen van 'nan' rows in de column \"region\"\n",
    "df_corpus = df_corpus_data.dropna(subset=['region'])"
   ]
  },
  {
   "cell_type": "code",
   "execution_count": 128,
   "metadata": {},
   "outputs": [
    {
     "data": {
      "image/png": "[encoded data removed]",
      "text/plain": [
       "<Figure size 432x288 with 1 Axes>"
      ]
     },
     "metadata": {
      "needs_background": "light"
     },
     "output_type": "display_data"
    }
   ],
   "source": [
    "fig , ax = plt.subplots(figsize=(6,4))\n",
    "sns.countplot(x='label', data=df_corpus)\n",
    "plt.title(\"Verhouding tussen de labels 0 en 1\")\n",
    "plt.show()"
   ]
  },
  {
   "cell_type": "code",
   "execution_count": 129,
   "metadata": {},
   "outputs": [
    {
     "name": "stdout",
     "output_type": "stream",
     "text": [
      "Before generating more 1 labels data\n",
      "X:269709\n",
      "y:269709\n"
     ]
    }
   ],
   "source": [
    "# Get input data\n",
    "X = []\n",
    "\n",
    "for x in df_corpus.region:\n",
    "    trans = [float(y) for y in x.split('|')]\n",
    "    X.append(trans)\n",
    "\n",
    "# Get labels\n",
    "y = [int(x) for x in df_corpus.label]\n",
    "\n",
    "print('Before generating more 1 labels data')\n",
    "print('X:{}'.format(len(X)))\n",
    "print('y:{}'.format(len(y)))"
   ]
  },
  {
   "cell_type": "code",
   "execution_count": 135,
   "metadata": {},
   "outputs": [],
   "source": [
    "dataSize = 70000"
   ]
  },
  {
   "cell_type": "code",
   "execution_count": 136,
   "metadata": {},
   "outputs": [
    {
     "name": "stdout",
     "output_type": "stream",
     "text": [
      "After generating more 1 labels data\n",
      "X:49519\n",
      "y:49519\n"
     ]
    }
   ],
   "source": [
    "X_more, y_more = generateBalancedData(X, y, dataSize)\n",
    "\n",
    "print('After generating more 1 labels data')\n",
    "print('X:{}'.format(len(X_more)))\n",
    "print('y:{}'.format(len(y_more)))"
   ]
  },
  {
   "cell_type": "code",
   "execution_count": 137,
   "metadata": {},
   "outputs": [
    {
     "data": {
      "image/png": "[encoded data removed]",
      "text/plain": [
       "<Figure size 432x288 with 1 Axes>"
      ]
     },
     "metadata": {
      "needs_background": "light"
     },
     "output_type": "display_data"
    }
   ],
   "source": [
    "fig , ax = plt.subplots(figsize=(6,4))\n",
    "sns.countplot(x='label', data=pd.DataFrame({'label':y_more}))\n",
    "plt.title(\"After: verhouding tussen de labels 0 en 1\")\n",
    "plt.show()"
   ]
  },
  {
   "cell_type": "code",
   "execution_count": 138,
   "metadata": {},
   "outputs": [],
   "source": [
    "test_size = 0.20\n",
    "random_state = 42"
   ]
  },
  {
   "cell_type": "code",
   "execution_count": 139,
   "metadata": {},
   "outputs": [],
   "source": [
    "X_train, X_test, y_train, y_test = train_test_split(X_more, y_more, test_size=test_size, \n",
    "                                                    random_state=random_state, stratify=y_more)"
   ]
  },
  {
   "cell_type": "code",
   "execution_count": 140,
   "metadata": {},
   "outputs": [],
   "source": [
    "\n",
    "import numpy\n",
    "import pandas\n",
    "from keras.models import Sequential\n",
    "from keras.layers import Dense\n",
    "from keras.wrappers.scikit_learn import KerasClassifier\n",
    "from sklearn.model_selection import cross_val_score\n",
    "from sklearn.preprocessing import LabelEncoder\n",
    "from sklearn.model_selection import StratifiedKFold\n",
    "from sklearn.preprocessing import StandardScaler\n",
    "from sklearn.pipeline import Pipeline\n",
    "from keras.utils import plot_model\n",
    "from IPython.display import SVG\n",
    "\n"
   ]
  },
  {
   "cell_type": "code",
   "execution_count": 141,
   "metadata": {},
   "outputs": [],
   "source": [
    "# encode class values as integers\n",
    "encoder = LabelEncoder()\n",
    "encoder.fit(y_train)\n",
    "encoded_Y = encoder.transform(y_train)"
   ]
  },
  {
   "cell_type": "code",
   "execution_count": 167,
   "metadata": {},
   "outputs": [],
   "source": [
    "# define baseline model\n",
    "def  create_baseline():\n",
    "    # create model\n",
    "    model = Sequential()\n",
    "    model.add(Dropout(0.4, input_shape=(52,)))\n",
    "    model.add(Dense(100, activation='relu'))\n",
    "    model.add(Dense(100, activation='relu'))\n",
    "    model.add(Dense(100, activation='relu'))\n",
    "    model.add(Dense(2, activation='softmax'))\n",
    "    # Compile model\n",
    "    adam = optimizers.Adam(lr=0.003)\n",
    "    model.compile(loss='categorical_crossentropy', optimizer= adam, metrics=['accuracy'])\n",
    "    \n",
    "    return model"
   ]
  },
  {
   "cell_type": "code",
   "execution_count": 168,
   "metadata": {},
   "outputs": [],
   "source": [
    "estimator = KerasClassifier(build_fn=create_baseline, epochs=100, batch_size=1000, verbose=1)\n",
    "kfold = StratifiedKFold(n_splits=2, shuffle=True, random_state=42)\n",
    "# results = cross_val_score(estimator, X_train, encoded_Y, cv=kfold)\n",
    "# print(\"Results: %.2f%% (%.2f%%)\" % (results.mean()*100, results.std()*100))"
   ]
  },
  {
   "cell_type": "code",
   "execution_count": 170,
   "metadata": {},
   "outputs": [
    {
     "name": "stdout",
     "output_type": "stream",
     "text": [
      "Train on 31692 samples, validate on 7923 samples\n",
      "Epoch 1/100\n",
      "31692/31692 [==============================] - 1s - loss: 0.6996 - acc: 0.5088 - val_loss: 0.6926 - val_acc: 0.5210\n",
      "Epoch 2/100\n",
      "31692/31692 [==============================] - 0s - loss: 0.6917 - acc: 0.5267 - val_loss: 0.6911 - val_acc: 0.5196\n",
      "Epoch 3/100\n",
      "31692/31692 [==============================] - 0s - loss: 0.6911 - acc: 0.5242 - val_loss: 0.6899 - val_acc: 0.5291\n",
      "Epoch 4/100\n",
      "31692/31692 [==============================] - 0s - loss: 0.6896 - acc: 0.5334 - val_loss: 0.6878 - val_acc: 0.5357\n",
      "Epoch 5/100\n",
      "31692/31692 [==============================] - 0s - loss: 0.6885 - acc: 0.5357 - val_loss: 0.6878 - val_acc: 0.5311\n",
      "Epoch 6/100\n",
      "31692/31692 [==============================] - 0s - loss: 0.6887 - acc: 0.5393 - val_loss: 0.6870 - val_acc: 0.5378\n",
      "Epoch 7/100\n",
      "31692/31692 [==============================] - 0s - loss: 0.6868 - acc: 0.5439 - val_loss: 0.6870 - val_acc: 0.5426\n",
      "Epoch 8/100\n",
      "31692/31692 [==============================] - 0s - loss: 0.6862 - acc: 0.5447 - val_loss: 0.6864 - val_acc: 0.5378\n",
      "Epoch 9/100\n",
      "31692/31692 [==============================] - 0s - loss: 0.6861 - acc: 0.5452 - val_loss: 0.6875 - val_acc: 0.5437\n",
      "Epoch 10/100\n",
      "31692/31692 [==============================] - 0s - loss: 0.6851 - acc: 0.5477 - val_loss: 0.6851 - val_acc: 0.5461\n",
      "Epoch 11/100\n",
      "31692/31692 [==============================] - 0s - loss: 0.6845 - acc: 0.5481 - val_loss: 0.6846 - val_acc: 0.5478\n",
      "Epoch 12/100\n",
      "31692/31692 [==============================] - 0s - loss: 0.6841 - acc: 0.5486 - val_loss: 0.6838 - val_acc: 0.5497\n",
      "Epoch 13/100\n",
      "31692/31692 [==============================] - 0s - loss: 0.6838 - acc: 0.5500 - val_loss: 0.6839 - val_acc: 0.5413\n",
      "Epoch 14/100\n",
      "31692/31692 [==============================] - 0s - loss: 0.6820 - acc: 0.5537 - val_loss: 0.6813 - val_acc: 0.5480\n",
      "Epoch 15/100\n",
      "31692/31692 [==============================] - 0s - loss: 0.6823 - acc: 0.5483 - val_loss: 0.6802 - val_acc: 0.5483\n",
      "Epoch 16/100\n",
      "31692/31692 [==============================] - 0s - loss: 0.6825 - acc: 0.5488 - val_loss: 0.6812 - val_acc: 0.5444\n",
      "Epoch 17/100\n",
      "31692/31692 [==============================] - 0s - loss: 0.6812 - acc: 0.5522 - val_loss: 0.6829 - val_acc: 0.5497\n",
      "Epoch 18/100\n",
      "31692/31692 [==============================] - 0s - loss: 0.6804 - acc: 0.5550 - val_loss: 0.6787 - val_acc: 0.5560\n",
      "Epoch 19/100\n",
      "31692/31692 [==============================] - 0s - loss: 0.6795 - acc: 0.5541 - val_loss: 0.6789 - val_acc: 0.5499\n",
      "Epoch 20/100\n",
      "31692/31692 [==============================] - 0s - loss: 0.6802 - acc: 0.5569 - val_loss: 0.6789 - val_acc: 0.5470\n",
      "Epoch 21/100\n",
      "31692/31692 [==============================] - 0s - loss: 0.6785 - acc: 0.5625 - val_loss: 0.6796 - val_acc: 0.5498\n",
      "Epoch 22/100\n",
      "31692/31692 [==============================] - 0s - loss: 0.6791 - acc: 0.5567 - val_loss: 0.6803 - val_acc: 0.5522\n",
      "Epoch 23/100\n",
      "31692/31692 [==============================] - 0s - loss: 0.6787 - acc: 0.5601 - val_loss: 0.6822 - val_acc: 0.5474\n",
      "Epoch 24/100\n",
      "31692/31692 [==============================] - 0s - loss: 0.6768 - acc: 0.5595 - val_loss: 0.6813 - val_acc: 0.5479\n",
      "Epoch 25/100\n",
      "31692/31692 [==============================] - 0s - loss: 0.6778 - acc: 0.5590 - val_loss: 0.6791 - val_acc: 0.5538\n",
      "Epoch 26/100\n",
      "31692/31692 [==============================] - 0s - loss: 0.6762 - acc: 0.5575 - val_loss: 0.6792 - val_acc: 0.5469\n",
      "Epoch 27/100\n",
      "31692/31692 [==============================] - 0s - loss: 0.6762 - acc: 0.5618 - val_loss: 0.6765 - val_acc: 0.5487\n",
      "Epoch 28/100\n",
      "31692/31692 [==============================] - 0s - loss: 0.6756 - acc: 0.5650 - val_loss: 0.6778 - val_acc: 0.5529\n",
      "Epoch 29/100\n",
      "31692/31692 [==============================] - 0s - loss: 0.6750 - acc: 0.5598 - val_loss: 0.6751 - val_acc: 0.5529\n",
      "Epoch 30/100\n",
      "31692/31692 [==============================] - 0s - loss: 0.6752 - acc: 0.5654 - val_loss: 0.6767 - val_acc: 0.5540\n",
      "Epoch 31/100\n",
      "31692/31692 [==============================] - 0s - loss: 0.6766 - acc: 0.5635 - val_loss: 0.6814 - val_acc: 0.5423\n",
      "Epoch 32/100\n",
      "31692/31692 [==============================] - 0s - loss: 0.6752 - acc: 0.5663 - val_loss: 0.6771 - val_acc: 0.5485\n",
      "Epoch 33/100\n",
      "31692/31692 [==============================] - 0s - loss: 0.6745 - acc: 0.5606 - val_loss: 0.6757 - val_acc: 0.5498\n",
      "Epoch 34/100\n",
      "31692/31692 [==============================] - 0s - loss: 0.6755 - acc: 0.5662 - val_loss: 0.6756 - val_acc: 0.5536\n",
      "Epoch 35/100\n",
      "31692/31692 [==============================] - 0s - loss: 0.6747 - acc: 0.5673 - val_loss: 0.6812 - val_acc: 0.5546\n",
      "Epoch 36/100\n",
      "31692/31692 [==============================] - 0s - loss: 0.6741 - acc: 0.5642 - val_loss: 0.6769 - val_acc: 0.5551\n",
      "Epoch 37/100\n",
      "31692/31692 [==============================] - 0s - loss: 0.6732 - acc: 0.5712 - val_loss: 0.6741 - val_acc: 0.5564\n",
      "Epoch 38/100\n",
      "31692/31692 [==============================] - 0s - loss: 0.6743 - acc: 0.5677 - val_loss: 0.6765 - val_acc: 0.5521\n",
      "Epoch 39/100\n",
      "31692/31692 [==============================] - 0s - loss: 0.6729 - acc: 0.5670 - val_loss: 0.6776 - val_acc: 0.5484\n",
      "Epoch 40/100\n",
      "31692/31692 [==============================] - 0s - loss: 0.6734 - acc: 0.5691 - val_loss: 0.6778 - val_acc: 0.5493\n",
      "Epoch 41/100\n",
      "31692/31692 [==============================] - 0s - loss: 0.6733 - acc: 0.5647 - val_loss: 0.6792 - val_acc: 0.5497\n",
      "Epoch 42/100\n",
      "31692/31692 [==============================] - 0s - loss: 0.6735 - acc: 0.5691 - val_loss: 0.6775 - val_acc: 0.5531\n",
      "Epoch 43/100\n",
      "31692/31692 [==============================] - 0s - loss: 0.6733 - acc: 0.5647 - val_loss: 0.6770 - val_acc: 0.5519\n",
      "Epoch 44/100\n",
      "31692/31692 [==============================] - 0s - loss: 0.6717 - acc: 0.5731 - val_loss: 0.6767 - val_acc: 0.5531\n",
      "Epoch 45/100\n",
      "31692/31692 [==============================] - 0s - loss: 0.6713 - acc: 0.5725 - val_loss: 0.6763 - val_acc: 0.5535\n",
      "Epoch 46/100\n",
      "31692/31692 [==============================] - 0s - loss: 0.6724 - acc: 0.5685 - val_loss: 0.6786 - val_acc: 0.5504\n",
      "Epoch 47/100\n",
      "31692/31692 [==============================] - 0s - loss: 0.6721 - acc: 0.5710 - val_loss: 0.6822 - val_acc: 0.5476\n",
      "Epoch 48/100\n",
      "31692/31692 [==============================] - 0s - loss: 0.6715 - acc: 0.5734 - val_loss: 0.6775 - val_acc: 0.5535\n",
      "Epoch 49/100\n",
      "31692/31692 [==============================] - 0s - loss: 0.6707 - acc: 0.5683 - val_loss: 0.6773 - val_acc: 0.5492\n",
      "Epoch 50/100\n",
      "31692/31692 [==============================] - 0s - loss: 0.6720 - acc: 0.5711 - val_loss: 0.6763 - val_acc: 0.5551\n",
      "Epoch 51/100\n",
      "31692/31692 [==============================] - 0s - loss: 0.6718 - acc: 0.5722 - val_loss: 0.6797 - val_acc: 0.5541\n",
      "Epoch 52/100\n",
      "31692/31692 [==============================] - 0s - loss: 0.6701 - acc: 0.5739 - val_loss: 0.6791 - val_acc: 0.5518\n",
      "Epoch 53/100\n",
      "31692/31692 [==============================] - 0s - loss: 0.6706 - acc: 0.5753 - val_loss: 0.6792 - val_acc: 0.5529\n",
      "Epoch 54/100\n",
      "31692/31692 [==============================] - 0s - loss: 0.6707 - acc: 0.5747 - val_loss: 0.6797 - val_acc: 0.5547\n",
      "Epoch 55/100\n",
      "31692/31692 [==============================] - 0s - loss: 0.6690 - acc: 0.5764 - val_loss: 0.6785 - val_acc: 0.5538\n",
      "Epoch 56/100\n",
      "31692/31692 [==============================] - 0s - loss: 0.6690 - acc: 0.5733 - val_loss: 0.6777 - val_acc: 0.5593\n",
      "Epoch 57/100\n",
      "31692/31692 [==============================] - 0s - loss: 0.6687 - acc: 0.5779 - val_loss: 0.6798 - val_acc: 0.5559\n",
      "Epoch 58/100\n",
      "31692/31692 [==============================] - 0s - loss: 0.6671 - acc: 0.5781 - val_loss: 0.6797 - val_acc: 0.5508\n",
      "Epoch 59/100\n",
      "31692/31692 [==============================] - 0s - loss: 0.6690 - acc: 0.5768 - val_loss: 0.6818 - val_acc: 0.5485\n",
      "Epoch 60/100\n",
      "31692/31692 [==============================] - 0s - loss: 0.6685 - acc: 0.5792 - val_loss: 0.6790 - val_acc: 0.5503\n",
      "Epoch 61/100\n",
      "31692/31692 [==============================] - 0s - loss: 0.6673 - acc: 0.5758 - val_loss: 0.6797 - val_acc: 0.5436\n",
      "Epoch 62/100\n",
      "31692/31692 [==============================] - 0s - loss: 0.6691 - acc: 0.5800 - val_loss: 0.6802 - val_acc: 0.5586\n",
      "Epoch 63/100\n",
      "31692/31692 [==============================] - 0s - loss: 0.6680 - acc: 0.5771 - val_loss: 0.6823 - val_acc: 0.5500\n",
      "Epoch 64/100\n"
     ]
    },
    {
     "name": "stdout",
     "output_type": "stream",
     "text": [
      "31692/31692 [==============================] - 0s - loss: 0.6696 - acc: 0.5771 - val_loss: 0.6780 - val_acc: 0.5497\n",
      "Epoch 65/100\n",
      "31692/31692 [==============================] - 0s - loss: 0.6664 - acc: 0.5811 - val_loss: 0.6814 - val_acc: 0.5478\n",
      "Epoch 66/100\n",
      "31692/31692 [==============================] - 0s - loss: 0.6667 - acc: 0.5828 - val_loss: 0.6764 - val_acc: 0.5556\n",
      "Epoch 67/100\n",
      "31692/31692 [==============================] - 0s - loss: 0.6666 - acc: 0.5831 - val_loss: 0.6791 - val_acc: 0.5498\n",
      "Epoch 68/100\n",
      "31692/31692 [==============================] - 0s - loss: 0.6662 - acc: 0.5808 - val_loss: 0.6809 - val_acc: 0.5518\n",
      "Epoch 69/100\n",
      "31692/31692 [==============================] - 0s - loss: 0.6680 - acc: 0.5829 - val_loss: 0.6772 - val_acc: 0.5490\n",
      "Epoch 70/100\n",
      "31692/31692 [==============================] - 0s - loss: 0.6660 - acc: 0.5826 - val_loss: 0.6801 - val_acc: 0.5523\n",
      "Epoch 71/100\n",
      "31692/31692 [==============================] - 0s - loss: 0.6680 - acc: 0.5798 - val_loss: 0.6811 - val_acc: 0.5523\n",
      "Epoch 72/100\n",
      "31692/31692 [==============================] - 0s - loss: 0.6664 - acc: 0.5794 - val_loss: 0.6822 - val_acc: 0.5533\n",
      "Epoch 73/100\n",
      "31692/31692 [==============================] - 0s - loss: 0.6663 - acc: 0.5817 - val_loss: 0.6798 - val_acc: 0.5561\n",
      "Epoch 74/100\n",
      "31692/31692 [==============================] - 0s - loss: 0.6670 - acc: 0.5850 - val_loss: 0.6817 - val_acc: 0.5487\n",
      "Epoch 75/100\n",
      "31692/31692 [==============================] - 0s - loss: 0.6669 - acc: 0.5818 - val_loss: 0.6769 - val_acc: 0.5519\n",
      "Epoch 76/100\n",
      "31692/31692 [==============================] - 0s - loss: 0.6670 - acc: 0.5816 - val_loss: 0.6807 - val_acc: 0.5505\n",
      "Epoch 77/100\n",
      "31692/31692 [==============================] - 0s - loss: 0.6656 - acc: 0.5828 - val_loss: 0.6812 - val_acc: 0.5455\n",
      "Epoch 78/100\n",
      "31692/31692 [==============================] - 0s - loss: 0.6677 - acc: 0.5798 - val_loss: 0.6809 - val_acc: 0.5500\n",
      "Epoch 79/100\n",
      "31692/31692 [==============================] - 0s - loss: 0.6658 - acc: 0.5804 - val_loss: 0.6853 - val_acc: 0.5474\n",
      "Epoch 80/100\n",
      "31692/31692 [==============================] - 0s - loss: 0.6663 - acc: 0.5847 - val_loss: 0.6798 - val_acc: 0.5533\n",
      "Epoch 81/100\n",
      "31692/31692 [==============================] - 0s - loss: 0.6646 - acc: 0.5865 - val_loss: 0.6791 - val_acc: 0.5546\n",
      "Epoch 82/100\n",
      "31692/31692 [==============================] - 0s - loss: 0.6655 - acc: 0.5818 - val_loss: 0.6817 - val_acc: 0.5571\n",
      "Epoch 83/100\n",
      "31692/31692 [==============================] - 0s - loss: 0.6656 - acc: 0.5822 - val_loss: 0.6798 - val_acc: 0.5576\n",
      "Epoch 84/100\n",
      "31692/31692 [==============================] - 0s - loss: 0.6658 - acc: 0.5830 - val_loss: 0.6791 - val_acc: 0.5532\n",
      "Epoch 85/100\n",
      "31692/31692 [==============================] - 0s - loss: 0.6637 - acc: 0.5861 - val_loss: 0.6778 - val_acc: 0.5572\n",
      "Epoch 86/100\n",
      "31692/31692 [==============================] - 0s - loss: 0.6637 - acc: 0.5827 - val_loss: 0.6794 - val_acc: 0.5577\n",
      "Epoch 87/100\n",
      "31692/31692 [==============================] - 0s - loss: 0.6638 - acc: 0.5843 - val_loss: 0.6832 - val_acc: 0.5531\n",
      "Epoch 88/100\n",
      "31692/31692 [==============================] - 0s - loss: 0.6647 - acc: 0.5853 - val_loss: 0.6797 - val_acc: 0.5516\n",
      "Epoch 89/100\n",
      "31692/31692 [==============================] - 0s - loss: 0.6638 - acc: 0.5836 - val_loss: 0.6803 - val_acc: 0.5470\n",
      "Epoch 90/100\n",
      "31692/31692 [==============================] - 0s - loss: 0.6642 - acc: 0.5862 - val_loss: 0.6823 - val_acc: 0.5514\n",
      "Epoch 91/100\n",
      "31692/31692 [==============================] - 0s - loss: 0.6636 - acc: 0.5896 - val_loss: 0.6875 - val_acc: 0.5557\n",
      "Epoch 92/100\n",
      "31692/31692 [==============================] - 0s - loss: 0.6617 - acc: 0.5870 - val_loss: 0.6819 - val_acc: 0.5478\n",
      "Epoch 93/100\n",
      "31692/31692 [==============================] - 0s - loss: 0.6611 - acc: 0.5927 - val_loss: 0.6850 - val_acc: 0.5480\n",
      "Epoch 94/100\n",
      "31692/31692 [==============================] - 0s - loss: 0.6633 - acc: 0.5862 - val_loss: 0.6812 - val_acc: 0.5484\n",
      "Epoch 95/100\n",
      "31692/31692 [==============================] - 0s - loss: 0.6622 - acc: 0.5893 - val_loss: 0.6834 - val_acc: 0.5483\n",
      "Epoch 96/100\n",
      "31692/31692 [==============================] - 0s - loss: 0.6640 - acc: 0.5871 - val_loss: 0.6789 - val_acc: 0.5552\n",
      "Epoch 97/100\n",
      "31692/31692 [==============================] - 0s - loss: 0.6618 - acc: 0.5892 - val_loss: 0.6794 - val_acc: 0.5557\n",
      "Epoch 98/100\n",
      "31692/31692 [==============================] - 0s - loss: 0.6627 - acc: 0.5883 - val_loss: 0.6822 - val_acc: 0.5482\n",
      "Epoch 99/100\n",
      "31692/31692 [==============================] - 0s - loss: 0.6630 - acc: 0.5883 - val_loss: 0.6810 - val_acc: 0.5476\n",
      "Epoch 100/100\n",
      "31692/31692 [==============================] - 0s - loss: 0.6625 - acc: 0.5887 - val_loss: 0.6811 - val_acc: 0.5528\n"
     ]
    },
    {
     "data": {
      "image/png": "[encoded data removed]",
      "text/plain": [
       "<Figure size 432x288 with 1 Axes>"
      ]
     },
     "metadata": {
      "needs_background": "light"
     },
     "output_type": "display_data"
    },
    {
     "data": {
      "image/png": "[encoded data removed]",
      "text/plain": [
       "<Figure size 432x288 with 1 Axes>"
      ]
     },
     "metadata": {
      "needs_background": "light"
     },
     "output_type": "display_data"
    }
   ],
   "source": [
    "history = estimator.fit(X_train, encoded_Y, validation_split=0.20, epochs=100, batch_size=128, verbose=1)\n",
    "\n",
    "# Plot training & validation accuracy values\n",
    "plt.plot(history.history['acc'])\n",
    "plt.plot(history.history['val_acc'])\n",
    "plt.title('Model accuracy')\n",
    "plt.ylabel('Accuracy')\n",
    "plt.xlabel('Epoch')\n",
    "plt.legend(['Train', 'Test'], loc='upper left')\n",
    "plt.show()\n",
    "\n",
    "# Plot training & validation loss values\n",
    "plt.plot(history.history['loss'])\n",
    "plt.plot(history.history['val_loss'])\n",
    "plt.title('Model loss')\n",
    "plt.ylabel('Loss')\n",
    "plt.xlabel('Epoch')\n",
    "plt.legend(['Train', 'Test'], loc='upper left')\n",
    "plt.show()"
   ]
  },
  {
   "cell_type": "code",
   "execution_count": 166,
   "metadata": {},
   "outputs": [],
   "source": [
    "# MLP for Pima Indians Dataset Serialize to JSON and HDF5\n",
    "from keras.models import Sequential\n",
    "from keras.layers import Dense\n",
    "from keras.models import model_from_json"
   ]
  },
  {
   "cell_type": "code",
   "execution_count": 98,
   "metadata": {},
   "outputs": [
    {
     "ename": "NameError",
     "evalue": "name 'model' is not defined",
     "output_type": "error",
     "traceback": [
      "\u001b[0;31m---------------------------------------------------------------------------\u001b[0m",
      "\u001b[0;31mNameError\u001b[0m                                 Traceback (most recent call last)",
      "\u001b[0;32m<ipython-input-98-e8a7a9a34233>\u001b[0m in \u001b[0;36m<module>\u001b[0;34m\u001b[0m\n\u001b[0;32m----> 1\u001b[0;31m \u001b[0mmodel_json\u001b[0m \u001b[0;34m=\u001b[0m \u001b[0mmodel\u001b[0m\u001b[0;34m.\u001b[0m\u001b[0mto_json\u001b[0m\u001b[0;34m(\u001b[0m\u001b[0;34m)\u001b[0m\u001b[0;34m\u001b[0m\u001b[0m\n\u001b[0m\u001b[1;32m      2\u001b[0m \u001b[0;32mwith\u001b[0m \u001b[0mopen\u001b[0m\u001b[0;34m(\u001b[0m\u001b[0;34m\"model.json\"\u001b[0m\u001b[0;34m,\u001b[0m \u001b[0;34m\"w\"\u001b[0m\u001b[0;34m)\u001b[0m \u001b[0;32mas\u001b[0m \u001b[0mjson_file\u001b[0m\u001b[0;34m:\u001b[0m\u001b[0;34m\u001b[0m\u001b[0m\n\u001b[1;32m      3\u001b[0m     \u001b[0mjson_file\u001b[0m\u001b[0;34m.\u001b[0m\u001b[0mwrite\u001b[0m\u001b[0;34m(\u001b[0m\u001b[0mmodel_json\u001b[0m\u001b[0;34m)\u001b[0m\u001b[0;34m\u001b[0m\u001b[0m\n\u001b[1;32m      4\u001b[0m \u001b[0;31m# serialize weights to HDF5\u001b[0m\u001b[0;34m\u001b[0m\u001b[0;34m\u001b[0m\u001b[0m\n\u001b[1;32m      5\u001b[0m \u001b[0mmodel\u001b[0m\u001b[0;34m.\u001b[0m\u001b[0msave_weights\u001b[0m\u001b[0;34m(\u001b[0m\u001b[0;34m\"model.h5\"\u001b[0m\u001b[0;34m)\u001b[0m\u001b[0;34m\u001b[0m\u001b[0m\n",
      "\u001b[0;31mNameError\u001b[0m: name 'model' is not defined"
     ]
    }
   ],
   "source": [
    "model_json = model.to_json()\n",
    "with open(\"model.json\", \"w\") as json_file:\n",
    "    json_file.write(model_json)\n",
    "# serialize weights to HDF5\n",
    "model.save_weights(\"model.h5\")\n",
    "print(\"Saved model to disk\")"
   ]
  },
  {
   "cell_type": "code",
   "execution_count": null,
   "metadata": {},
   "outputs": [],
   "source": [
    "# file name\n",
    "filename = 'mlp_model_test_H7_la_small_scikit_n120_h3_l00001_i4000.sav'\n",
    "\n",
    "# In map\n",
    "folder = '/datb/aphasia/languagedata/corpus/result/'"
   ]
  },
  {
   "cell_type": "code",
   "execution_count": null,
   "metadata": {},
   "outputs": [],
   "source": [
    "# load the model from disk\n",
    "loaded_model = joblib.load(open(folder+filename, 'rb'))\n",
    "result = loaded_model.score(X_test, y_test)\n",
    "print('Test_score:{}'.format(test_score))"
   ]
  },
  {
   "cell_type": "code",
   "execution_count": null,
   "metadata": {},
   "outputs": [],
   "source": [
    "# save the model to disk\n",
    "joblib.dump(mlp, folder+filename)"
   ]
  },
  {
   "cell_type": "code",
   "execution_count": null,
   "metadata": {},
   "outputs": [],
   "source": []
  }
 ],
 "metadata": {
  "kernelspec": {
   "display_name": "Python 3",
   "language": "python",
   "name": "python3"
  },
  "language_info": {
   "codemirror_mode": {
    "name": "ipython",
    "version": 3
   },
   "file_extension": ".py",
   "mimetype": "text/x-python",
   "name": "python",
   "nbconvert_exporter": "python",
   "pygments_lexer": "ipython3",
   "version": "3.6.6"
  }
 },
 "nbformat": 4,
 "nbformat_minor": 2
}
