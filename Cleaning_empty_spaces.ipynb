{
 "cells": [
  {
   "cell_type": "code",
   "execution_count": 1,
   "metadata": {},
   "outputs": [],
   "source": [
    "#In dit nodebook worden lege regels weg gehaald en overige ruimte in de regels die voorkomen door eerdere cleaning verwijderd. \n",
    "\n",
    "\n",
    "import glob\n",
    "\n",
    "folderOrig =\"/datb/aphasia/languagedata/uva/transform/clean/*.txt\"\n",
    "\n",
    "import os\n",
    "\n",
    "\n",
    "def remove_empty_lines(filename):\n",
    "    files = glob.glob(filename)\n",
    "    for file in files:\n",
    "        \n",
    "        with open(file, \"r\") as filehandle:\n",
    "            lines = filehandle.readlines()\n",
    "\n",
    "        with open(file, 'w') as filehandle:\n",
    "            lines = filter(lambda x: x.strip(), lines)\n",
    "            filehandle.writelines(lines) \n",
    "\n",
    "def remove_unneeded_spaces(filename):\n",
    "    files = glob.glob(filename)\n",
    "    for file in files:\n",
    "        \n",
    "        with open(file, \"r\") as filehandle:\n",
    "            line = filehandle.readline()\n",
    "            \n",
    "            newfile = []\n",
    "            \n",
    "            while line:\n",
    "                newlist = [word for word in line.replace('\\n',\"\").split(' ')] \n",
    "        \n",
    "                newsentence = ' '.join(newlist)\n",
    "            \n",
    "                index = 0\n",
    "                \n",
    "                while index < len(newsentence):\n",
    "                    \n",
    "                    if newsentence[index] != ' ':\n",
    "                        newsentence = newsentence[index:]\n",
    "                        break\n",
    "                    else:\n",
    "                        index += 1\n",
    "                        newsentence = newsentence[index:]\n",
    "                \n",
    "                newfile.append(newsentence)\n",
    "                \n",
    "                line = filehandle.readline()\n",
    "            \n",
    "        with open(file, 'w') as filehandle:\n",
    "            for newline in newfile:\n",
    "                filehandle.write(newline +\"\\r\\n\")\n",
    "            \n",
    "            \n",
    "remove_unneeded_spaces(folderOrig)"
   ]
  },
  {
   "cell_type": "code",
   "execution_count": 2,
   "metadata": {},
   "outputs": [
    {
     "ename": "SyntaxError",
     "evalue": "invalid syntax (<ipython-input-2-e5e300b5b610>, line 4)",
     "output_type": "error",
     "traceback": [
      "\u001b[0;36m  File \u001b[0;32m\"<ipython-input-2-e5e300b5b610>\"\u001b[0;36m, line \u001b[0;32m4\u001b[0m\n\u001b[0;31m    with open(file, r) as fi\u001b[0m\n\u001b[0m                            ^\u001b[0m\n\u001b[0;31mSyntaxError\u001b[0m\u001b[0;31m:\u001b[0m invalid syntax\n"
     ]
    }
   ],
   "source": []
  },
  {
   "cell_type": "code",
   "execution_count": null,
   "metadata": {},
   "outputs": [],
   "source": []
  }
 ],
 "metadata": {
  "kernelspec": {
   "display_name": "Python 3",
   "language": "python",
   "name": "python3"
  },
  "language_info": {
   "codemirror_mode": {
    "name": "ipython",
    "version": 3
   },
   "file_extension": ".py",
   "mimetype": "text/x-python",
   "name": "python",
   "nbconvert_exporter": "python",
   "pygments_lexer": "ipython3",
   "version": "3.6.6"
  }
 },
 "nbformat": 4,
 "nbformat_minor": 2
}
